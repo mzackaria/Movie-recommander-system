{
 "cells": [
  {
   "cell_type": "markdown",
   "metadata": {},
   "source": [
    "# Movie Recommendation System - EDA - Part 1\n",
    "\n",
    "## Introduction\n",
    "\n",
    "We're going to explore a dataset from the IMDB database: movie_metadata.csv. This EDA is supposed to prepare a clustering algorithm in order to recommend a movie on an item to item base.\n",
    "\n",
    "\n",
    "## The data\n"
   ]
  },
  {
   "cell_type": "code",
   "execution_count": 1,
   "metadata": {},
   "outputs": [
    {
     "data": {
      "text/html": [
       "<div>\n",
       "<style scoped>\n",
       "    .dataframe tbody tr th:only-of-type {\n",
       "        vertical-align: middle;\n",
       "    }\n",
       "\n",
       "    .dataframe tbody tr th {\n",
       "        vertical-align: top;\n",
       "    }\n",
       "\n",
       "    .dataframe thead th {\n",
       "        text-align: right;\n",
       "    }\n",
       "</style>\n",
       "<table border=\"1\" class=\"dataframe\">\n",
       "  <thead>\n",
       "    <tr style=\"text-align: right;\">\n",
       "      <th></th>\n",
       "      <th>color</th>\n",
       "      <th>director_name</th>\n",
       "      <th>num_critic_for_reviews</th>\n",
       "      <th>duration</th>\n",
       "      <th>director_facebook_likes</th>\n",
       "      <th>actor_3_facebook_likes</th>\n",
       "      <th>actor_2_name</th>\n",
       "      <th>actor_1_facebook_likes</th>\n",
       "      <th>gross</th>\n",
       "      <th>genres</th>\n",
       "      <th>...</th>\n",
       "      <th>num_user_for_reviews</th>\n",
       "      <th>language</th>\n",
       "      <th>country</th>\n",
       "      <th>content_rating</th>\n",
       "      <th>budget</th>\n",
       "      <th>title_year</th>\n",
       "      <th>actor_2_facebook_likes</th>\n",
       "      <th>imdb_score</th>\n",
       "      <th>aspect_ratio</th>\n",
       "      <th>movie_facebook_likes</th>\n",
       "    </tr>\n",
       "  </thead>\n",
       "  <tbody>\n",
       "    <tr>\n",
       "      <th>0</th>\n",
       "      <td>Color</td>\n",
       "      <td>James Cameron</td>\n",
       "      <td>723.0</td>\n",
       "      <td>178.0</td>\n",
       "      <td>0.0</td>\n",
       "      <td>855.0</td>\n",
       "      <td>Joel David Moore</td>\n",
       "      <td>1000.0</td>\n",
       "      <td>760505847.0</td>\n",
       "      <td>Action|Adventure|Fantasy|Sci-Fi</td>\n",
       "      <td>...</td>\n",
       "      <td>3054.0</td>\n",
       "      <td>English</td>\n",
       "      <td>USA</td>\n",
       "      <td>PG-13</td>\n",
       "      <td>237000000.0</td>\n",
       "      <td>2009.0</td>\n",
       "      <td>936.0</td>\n",
       "      <td>7.9</td>\n",
       "      <td>1.78</td>\n",
       "      <td>33000.0</td>\n",
       "    </tr>\n",
       "    <tr>\n",
       "      <th>1</th>\n",
       "      <td>Color</td>\n",
       "      <td>Gore Verbinski</td>\n",
       "      <td>302.0</td>\n",
       "      <td>169.0</td>\n",
       "      <td>563.0</td>\n",
       "      <td>1000.0</td>\n",
       "      <td>Orlando Bloom</td>\n",
       "      <td>40000.0</td>\n",
       "      <td>309404152.0</td>\n",
       "      <td>Action|Adventure|Fantasy</td>\n",
       "      <td>...</td>\n",
       "      <td>1238.0</td>\n",
       "      <td>English</td>\n",
       "      <td>USA</td>\n",
       "      <td>PG-13</td>\n",
       "      <td>300000000.0</td>\n",
       "      <td>2007.0</td>\n",
       "      <td>5000.0</td>\n",
       "      <td>7.1</td>\n",
       "      <td>2.35</td>\n",
       "      <td>0.0</td>\n",
       "    </tr>\n",
       "    <tr>\n",
       "      <th>2</th>\n",
       "      <td>Color</td>\n",
       "      <td>Sam Mendes</td>\n",
       "      <td>602.0</td>\n",
       "      <td>148.0</td>\n",
       "      <td>0.0</td>\n",
       "      <td>161.0</td>\n",
       "      <td>Rory Kinnear</td>\n",
       "      <td>11000.0</td>\n",
       "      <td>200074175.0</td>\n",
       "      <td>Action|Adventure|Thriller</td>\n",
       "      <td>...</td>\n",
       "      <td>994.0</td>\n",
       "      <td>English</td>\n",
       "      <td>UK</td>\n",
       "      <td>PG-13</td>\n",
       "      <td>245000000.0</td>\n",
       "      <td>2015.0</td>\n",
       "      <td>393.0</td>\n",
       "      <td>6.8</td>\n",
       "      <td>2.35</td>\n",
       "      <td>85000.0</td>\n",
       "    </tr>\n",
       "    <tr>\n",
       "      <th>3</th>\n",
       "      <td>Color</td>\n",
       "      <td>Christopher Nolan</td>\n",
       "      <td>813.0</td>\n",
       "      <td>164.0</td>\n",
       "      <td>22000.0</td>\n",
       "      <td>23000.0</td>\n",
       "      <td>Christian Bale</td>\n",
       "      <td>27000.0</td>\n",
       "      <td>448130642.0</td>\n",
       "      <td>Action|Thriller</td>\n",
       "      <td>...</td>\n",
       "      <td>2701.0</td>\n",
       "      <td>English</td>\n",
       "      <td>USA</td>\n",
       "      <td>PG-13</td>\n",
       "      <td>250000000.0</td>\n",
       "      <td>2012.0</td>\n",
       "      <td>23000.0</td>\n",
       "      <td>8.5</td>\n",
       "      <td>2.35</td>\n",
       "      <td>164000.0</td>\n",
       "    </tr>\n",
       "    <tr>\n",
       "      <th>4</th>\n",
       "      <td>NaN</td>\n",
       "      <td>Doug Walker</td>\n",
       "      <td>NaN</td>\n",
       "      <td>NaN</td>\n",
       "      <td>131.0</td>\n",
       "      <td>NaN</td>\n",
       "      <td>Rob Walker</td>\n",
       "      <td>131.0</td>\n",
       "      <td>NaN</td>\n",
       "      <td>Documentary</td>\n",
       "      <td>...</td>\n",
       "      <td>NaN</td>\n",
       "      <td>NaN</td>\n",
       "      <td>NaN</td>\n",
       "      <td>NaN</td>\n",
       "      <td>NaN</td>\n",
       "      <td>NaN</td>\n",
       "      <td>12.0</td>\n",
       "      <td>7.1</td>\n",
       "      <td>NaN</td>\n",
       "      <td>0.0</td>\n",
       "    </tr>\n",
       "  </tbody>\n",
       "</table>\n",
       "<p>5 rows × 28 columns</p>\n",
       "</div>"
      ],
      "text/plain": [
       "   color      director_name  num_critic_for_reviews  duration  \\\n",
       "0  Color      James Cameron                   723.0     178.0   \n",
       "1  Color     Gore Verbinski                   302.0     169.0   \n",
       "2  Color         Sam Mendes                   602.0     148.0   \n",
       "3  Color  Christopher Nolan                   813.0     164.0   \n",
       "4    NaN        Doug Walker                     NaN       NaN   \n",
       "\n",
       "   director_facebook_likes  actor_3_facebook_likes      actor_2_name  \\\n",
       "0                      0.0                   855.0  Joel David Moore   \n",
       "1                    563.0                  1000.0     Orlando Bloom   \n",
       "2                      0.0                   161.0      Rory Kinnear   \n",
       "3                  22000.0                 23000.0    Christian Bale   \n",
       "4                    131.0                     NaN        Rob Walker   \n",
       "\n",
       "   actor_1_facebook_likes        gross                           genres  ...  \\\n",
       "0                  1000.0  760505847.0  Action|Adventure|Fantasy|Sci-Fi  ...   \n",
       "1                 40000.0  309404152.0         Action|Adventure|Fantasy  ...   \n",
       "2                 11000.0  200074175.0        Action|Adventure|Thriller  ...   \n",
       "3                 27000.0  448130642.0                  Action|Thriller  ...   \n",
       "4                   131.0          NaN                      Documentary  ...   \n",
       "\n",
       "  num_user_for_reviews language  country  content_rating       budget  \\\n",
       "0               3054.0  English      USA           PG-13  237000000.0   \n",
       "1               1238.0  English      USA           PG-13  300000000.0   \n",
       "2                994.0  English       UK           PG-13  245000000.0   \n",
       "3               2701.0  English      USA           PG-13  250000000.0   \n",
       "4                  NaN      NaN      NaN             NaN          NaN   \n",
       "\n",
       "   title_year actor_2_facebook_likes imdb_score  aspect_ratio  \\\n",
       "0      2009.0                  936.0        7.9          1.78   \n",
       "1      2007.0                 5000.0        7.1          2.35   \n",
       "2      2015.0                  393.0        6.8          2.35   \n",
       "3      2012.0                23000.0        8.5          2.35   \n",
       "4         NaN                   12.0        7.1           NaN   \n",
       "\n",
       "  movie_facebook_likes  \n",
       "0              33000.0  \n",
       "1                  0.0  \n",
       "2              85000.0  \n",
       "3             164000.0  \n",
       "4                  0.0  \n",
       "\n",
       "[5 rows x 28 columns]"
      ]
     },
     "execution_count": 1,
     "metadata": {},
     "output_type": "execute_result"
    }
   ],
   "source": [
    "import pandas as pd\n",
    "import numpy as np\n",
    "\n",
    "# Importing the dataset\n",
    "data = pd.read_csv('movie_metadata.csv')\n",
    "data.head()"
   ]
  },
  {
   "cell_type": "code",
   "execution_count": 2,
   "metadata": {},
   "outputs": [
    {
     "data": {
      "text/plain": [
       "(4382, 28)"
      ]
     },
     "execution_count": 2,
     "metadata": {},
     "output_type": "execute_result"
    }
   ],
   "source": [
    "data.shape"
   ]
  },
  {
   "cell_type": "code",
   "execution_count": 3,
   "metadata": {},
   "outputs": [
    {
     "name": "stdout",
     "output_type": "stream",
     "text": [
      "color\n",
      "director_name\n",
      "num_critic_for_reviews\n",
      "duration\n",
      "director_facebook_likes\n",
      "actor_3_facebook_likes\n",
      "actor_2_name\n",
      "actor_1_facebook_likes\n",
      "gross\n",
      "genres\n",
      "actor_1_name\n",
      "movie_title\n",
      "num_voted_users\n",
      "cast_total_facebook_likes\n",
      "actor_3_name\n",
      "facenumber_in_poster\n",
      "plot_keywords\n",
      "movie_imdb_link\n",
      "num_user_for_reviews\n",
      "language\n",
      "country\n",
      "content_rating\n",
      "budget\n",
      "title_year\n",
      "actor_2_facebook_likes\n",
      "imdb_score\n",
      "aspect_ratio\n",
      "movie_facebook_likes\n"
     ]
    }
   ],
   "source": [
    "for col in data.columns:\n",
    "    print(col)"
   ]
  },
  {
   "cell_type": "code",
   "execution_count": 4,
   "metadata": {},
   "outputs": [
    {
     "data": {
      "text/html": [
       "<div>\n",
       "<style scoped>\n",
       "    .dataframe tbody tr th:only-of-type {\n",
       "        vertical-align: middle;\n",
       "    }\n",
       "\n",
       "    .dataframe tbody tr th {\n",
       "        vertical-align: top;\n",
       "    }\n",
       "\n",
       "    .dataframe thead th {\n",
       "        text-align: right;\n",
       "    }\n",
       "</style>\n",
       "<table border=\"1\" class=\"dataframe\">\n",
       "  <thead>\n",
       "    <tr style=\"text-align: right;\">\n",
       "      <th></th>\n",
       "      <th>num_critic_for_reviews</th>\n",
       "      <th>duration</th>\n",
       "      <th>director_facebook_likes</th>\n",
       "      <th>actor_3_facebook_likes</th>\n",
       "      <th>actor_1_facebook_likes</th>\n",
       "      <th>gross</th>\n",
       "      <th>num_voted_users</th>\n",
       "      <th>cast_total_facebook_likes</th>\n",
       "      <th>facenumber_in_poster</th>\n",
       "      <th>num_user_for_reviews</th>\n",
       "      <th>budget</th>\n",
       "      <th>title_year</th>\n",
       "      <th>actor_2_facebook_likes</th>\n",
       "      <th>imdb_score</th>\n",
       "      <th>aspect_ratio</th>\n",
       "      <th>movie_facebook_likes</th>\n",
       "    </tr>\n",
       "  </thead>\n",
       "  <tbody>\n",
       "    <tr>\n",
       "      <th>count</th>\n",
       "      <td>4360.000000</td>\n",
       "      <td>4373.000000</td>\n",
       "      <td>4287.000000</td>\n",
       "      <td>4372.000000</td>\n",
       "      <td>4381.000000</td>\n",
       "      <td>3.788000e+03</td>\n",
       "      <td>4.381000e+03</td>\n",
       "      <td>4381.000000</td>\n",
       "      <td>4373.000000</td>\n",
       "      <td>4370.000000</td>\n",
       "      <td>4.005000e+03</td>\n",
       "      <td>4283.000000</td>\n",
       "      <td>4377.000000</td>\n",
       "      <td>4381.000000</td>\n",
       "      <td>4211.000000</td>\n",
       "      <td>4381.000000</td>\n",
       "    </tr>\n",
       "    <tr>\n",
       "      <th>mean</th>\n",
       "      <td>149.557110</td>\n",
       "      <td>109.026298</td>\n",
       "      <td>746.602053</td>\n",
       "      <td>708.282479</td>\n",
       "      <td>7024.927870</td>\n",
       "      <td>5.225559e+07</td>\n",
       "      <td>9.241414e+04</td>\n",
       "      <td>10494.515179</td>\n",
       "      <td>1.397439</td>\n",
       "      <td>295.610755</td>\n",
       "      <td>4.446849e+07</td>\n",
       "      <td>2002.743638</td>\n",
       "      <td>1828.941284</td>\n",
       "      <td>6.444282</td>\n",
       "      <td>2.207428</td>\n",
       "      <td>8304.756448</td>\n",
       "    </tr>\n",
       "    <tr>\n",
       "      <th>std</th>\n",
       "      <td>122.798837</td>\n",
       "      <td>25.607888</td>\n",
       "      <td>2941.182331</td>\n",
       "      <td>1765.601751</td>\n",
       "      <td>14304.809201</td>\n",
       "      <td>7.004394e+07</td>\n",
       "      <td>1.443598e+05</td>\n",
       "      <td>17791.634264</td>\n",
       "      <td>2.039144</td>\n",
       "      <td>388.478406</td>\n",
       "      <td>2.186521e+08</td>\n",
       "      <td>11.331905</td>\n",
       "      <td>4269.395813</td>\n",
       "      <td>1.100754</td>\n",
       "      <td>1.202948</td>\n",
       "      <td>20411.411649</td>\n",
       "    </tr>\n",
       "    <tr>\n",
       "      <th>min</th>\n",
       "      <td>1.000000</td>\n",
       "      <td>7.000000</td>\n",
       "      <td>0.000000</td>\n",
       "      <td>0.000000</td>\n",
       "      <td>0.000000</td>\n",
       "      <td>1.620000e+02</td>\n",
       "      <td>6.000000e+00</td>\n",
       "      <td>0.000000</td>\n",
       "      <td>0.000000</td>\n",
       "      <td>1.000000</td>\n",
       "      <td>1.300000e+04</td>\n",
       "      <td>1927.000000</td>\n",
       "      <td>0.000000</td>\n",
       "      <td>1.600000</td>\n",
       "      <td>1.180000</td>\n",
       "      <td>0.000000</td>\n",
       "    </tr>\n",
       "    <tr>\n",
       "      <th>25%</th>\n",
       "      <td>60.000000</td>\n",
       "      <td>95.000000</td>\n",
       "      <td>9.000000</td>\n",
       "      <td>174.000000</td>\n",
       "      <td>695.000000</td>\n",
       "      <td>8.133026e+06</td>\n",
       "      <td>1.284500e+04</td>\n",
       "      <td>1747.000000</td>\n",
       "      <td>0.000000</td>\n",
       "      <td>83.000000</td>\n",
       "      <td>1.000000e+07</td>\n",
       "      <td>1999.000000</td>\n",
       "      <td>346.000000</td>\n",
       "      <td>5.800000</td>\n",
       "      <td>1.850000</td>\n",
       "      <td>0.000000</td>\n",
       "    </tr>\n",
       "    <tr>\n",
       "      <th>50%</th>\n",
       "      <td>120.000000</td>\n",
       "      <td>105.000000</td>\n",
       "      <td>56.000000</td>\n",
       "      <td>412.000000</td>\n",
       "      <td>1000.000000</td>\n",
       "      <td>2.979211e+07</td>\n",
       "      <td>4.229600e+04</td>\n",
       "      <td>3580.000000</td>\n",
       "      <td>1.000000</td>\n",
       "      <td>177.000000</td>\n",
       "      <td>2.300000e+07</td>\n",
       "      <td>2005.000000</td>\n",
       "      <td>642.000000</td>\n",
       "      <td>6.600000</td>\n",
       "      <td>2.350000</td>\n",
       "      <td>200.000000</td>\n",
       "    </tr>\n",
       "    <tr>\n",
       "      <th>75%</th>\n",
       "      <td>205.000000</td>\n",
       "      <td>120.000000</td>\n",
       "      <td>213.000000</td>\n",
       "      <td>664.000000</td>\n",
       "      <td>12000.000000</td>\n",
       "      <td>6.664630e+07</td>\n",
       "      <td>1.078150e+05</td>\n",
       "      <td>14995.000000</td>\n",
       "      <td>2.000000</td>\n",
       "      <td>353.750000</td>\n",
       "      <td>5.000000e+07</td>\n",
       "      <td>2010.000000</td>\n",
       "      <td>948.000000</td>\n",
       "      <td>7.200000</td>\n",
       "      <td>2.350000</td>\n",
       "      <td>9000.000000</td>\n",
       "    </tr>\n",
       "    <tr>\n",
       "      <th>max</th>\n",
       "      <td>813.000000</td>\n",
       "      <td>511.000000</td>\n",
       "      <td>23000.000000</td>\n",
       "      <td>23000.000000</td>\n",
       "      <td>640000.000000</td>\n",
       "      <td>7.605058e+08</td>\n",
       "      <td>1.689764e+06</td>\n",
       "      <td>656730.000000</td>\n",
       "      <td>43.000000</td>\n",
       "      <td>5060.000000</td>\n",
       "      <td>1.221550e+10</td>\n",
       "      <td>2016.000000</td>\n",
       "      <td>137000.000000</td>\n",
       "      <td>9.500000</td>\n",
       "      <td>16.000000</td>\n",
       "      <td>349000.000000</td>\n",
       "    </tr>\n",
       "  </tbody>\n",
       "</table>\n",
       "</div>"
      ],
      "text/plain": [
       "       num_critic_for_reviews     duration  director_facebook_likes  \\\n",
       "count             4360.000000  4373.000000              4287.000000   \n",
       "mean               149.557110   109.026298               746.602053   \n",
       "std                122.798837    25.607888              2941.182331   \n",
       "min                  1.000000     7.000000                 0.000000   \n",
       "25%                 60.000000    95.000000                 9.000000   \n",
       "50%                120.000000   105.000000                56.000000   \n",
       "75%                205.000000   120.000000               213.000000   \n",
       "max                813.000000   511.000000             23000.000000   \n",
       "\n",
       "       actor_3_facebook_likes  actor_1_facebook_likes         gross  \\\n",
       "count             4372.000000             4381.000000  3.788000e+03   \n",
       "mean               708.282479             7024.927870  5.225559e+07   \n",
       "std               1765.601751            14304.809201  7.004394e+07   \n",
       "min                  0.000000                0.000000  1.620000e+02   \n",
       "25%                174.000000              695.000000  8.133026e+06   \n",
       "50%                412.000000             1000.000000  2.979211e+07   \n",
       "75%                664.000000            12000.000000  6.664630e+07   \n",
       "max              23000.000000           640000.000000  7.605058e+08   \n",
       "\n",
       "       num_voted_users  cast_total_facebook_likes  facenumber_in_poster  \\\n",
       "count     4.381000e+03                4381.000000           4373.000000   \n",
       "mean      9.241414e+04               10494.515179              1.397439   \n",
       "std       1.443598e+05               17791.634264              2.039144   \n",
       "min       6.000000e+00                   0.000000              0.000000   \n",
       "25%       1.284500e+04                1747.000000              0.000000   \n",
       "50%       4.229600e+04                3580.000000              1.000000   \n",
       "75%       1.078150e+05               14995.000000              2.000000   \n",
       "max       1.689764e+06              656730.000000             43.000000   \n",
       "\n",
       "       num_user_for_reviews        budget   title_year  \\\n",
       "count           4370.000000  4.005000e+03  4283.000000   \n",
       "mean             295.610755  4.446849e+07  2002.743638   \n",
       "std              388.478406  2.186521e+08    11.331905   \n",
       "min                1.000000  1.300000e+04  1927.000000   \n",
       "25%               83.000000  1.000000e+07  1999.000000   \n",
       "50%              177.000000  2.300000e+07  2005.000000   \n",
       "75%              353.750000  5.000000e+07  2010.000000   \n",
       "max             5060.000000  1.221550e+10  2016.000000   \n",
       "\n",
       "       actor_2_facebook_likes   imdb_score  aspect_ratio  movie_facebook_likes  \n",
       "count             4377.000000  4381.000000   4211.000000           4381.000000  \n",
       "mean              1828.941284     6.444282      2.207428           8304.756448  \n",
       "std               4269.395813     1.100754      1.202948          20411.411649  \n",
       "min                  0.000000     1.600000      1.180000              0.000000  \n",
       "25%                346.000000     5.800000      1.850000              0.000000  \n",
       "50%                642.000000     6.600000      2.350000            200.000000  \n",
       "75%                948.000000     7.200000      2.350000           9000.000000  \n",
       "max             137000.000000     9.500000     16.000000         349000.000000  "
      ]
     },
     "execution_count": 4,
     "metadata": {},
     "output_type": "execute_result"
    }
   ],
   "source": [
    "data.describe()"
   ]
  },
  {
   "cell_type": "markdown",
   "metadata": {},
   "source": [
    "## Missing Values - duplicate values\n"
   ]
  },
  {
   "cell_type": "code",
   "execution_count": 5,
   "metadata": {},
   "outputs": [],
   "source": [
    "data = data[~data.movie_title.isnull()]\n",
    "data = data.drop_duplicates(subset='movie_title', keep='last')"
   ]
  },
  {
   "cell_type": "markdown",
   "metadata": {},
   "source": [
    "\n",
    "### a - Categorical Variables \n",
    "\n",
    "For categorical variables the missing value is replaced by an empty string."
   ]
  },
  {
   "cell_type": "code",
   "execution_count": 6,
   "metadata": {},
   "outputs": [],
   "source": [
    "data.color = data.color.fillna('')\n",
    "data.director_name = data.director_name.fillna('')\n",
    "data.actor_2_name = data.actor_2_name.fillna('')\n",
    "data.genres = data.genres.fillna('')\n",
    "data.actor_1_name = data.actor_1_name.fillna('')\n",
    "data.actor_3_name = data.actor_3_name.fillna('')\n",
    "data.plot_keywords = data.plot_keywords.fillna('')\n",
    "data.movie_imdb_link = data.movie_imdb_link.fillna('')\n",
    "data.language = data.language.fillna('')\n",
    "data.country = data.country.fillna('')\n",
    "data.content_rating = data.content_rating.fillna('')"
   ]
  },
  {
   "cell_type": "markdown",
   "metadata": {},
   "source": [
    "### a - Variables numériques\n",
    "\n",
    "\n",
    "For numerical features, 2 choices are made:\n",
    "- replace by 0\n",
    "- replace by the mean of the feature\n",
    "\n",
    "###### Replaced by 0\n",
    "\n",
    "The features for which decided to replace the null values by 0 are features that refers to a count of some kind.\n",
    "\n",
    "Those features are:\n",
    "\n",
    "+ num_critic_for_reviews\n",
    "+ director_facebook_likes\n",
    "+ actor_3_facebook_likes\n",
    "+ actor_1_facebook_likes\n",
    "+ number_voted_users\n",
    "+ cast_total_facebook_likes\n",
    "+ face_number_in_poster\n",
    "+ num_user_for_reviews\n",
    "+ actor_2_facebook_likes\n",
    "+ movie_facebook_likes\n",
    "\n",
    "###### Replaced by mean value\n",
    "\n",
    "The features for which decided to replace the null values by mean are features that refers to an actual measure. For example, we prefer taking the mean fir the duration of the movie because a 0 value wouldn't make any sense.\n",
    "\n",
    "Those features are:\n",
    "\n",
    "+ duration\n",
    "+ gross\n",
    "+ budget\n",
    "+ title_year\n",
    "+ imdb_scores\n",
    "+ aspect_ratio\n"
   ]
  },
  {
   "cell_type": "code",
   "execution_count": 7,
   "metadata": {},
   "outputs": [],
   "source": [
    "data.num_critic_for_reviews = data.num_critic_for_reviews.fillna(0)\n",
    "data.director_facebook_likes = data.director_facebook_likes.fillna(0)\n",
    "data.actor_3_facebook_likes = data.actor_3_facebook_likes.fillna(0)\n",
    "data.actor_1_facebook_likes = data.actor_1_facebook_likes.fillna(0)\n",
    "data.num_voted_users = data.num_voted_users.fillna(0)\n",
    "data.cast_total_facebook_likes = data.cast_total_facebook_likes.fillna(0)\n",
    "data.facenumber_in_poster = data.facenumber_in_poster.fillna(0)\n",
    "data.num_user_for_reviews = data.num_user_for_reviews.fillna(0)\n",
    "data.actor_2_facebook_likes = data.actor_2_facebook_likes.fillna(0)\n",
    "data.movie_facebook_likes = data.movie_facebook_likes.fillna(0)\n",
    "\n",
    "#replacing nan values by mean for duration, gross, budget, title_year, imdb_scores, aspect_ratio\n",
    "data.duration = data.duration.fillna(data.duration.mean())\n",
    "data.gross = data.gross.fillna(data.gross.mean())\n",
    "data.budget = data.budget.fillna(data.budget.mean())\n",
    "data.title_year = data.title_year.fillna(data.title_year.mean())\n",
    "data.imdb_score = data.imdb_score.fillna(data.imdb_score.mean())\n",
    "data.aspect_ratio = data.aspect_ratio.fillna(data.aspect_ratio.mean())"
   ]
  },
  {
   "cell_type": "markdown",
   "metadata": {},
   "source": [
    "## EDA\n",
    "\n",
    "#### IMDB Score"
   ]
  },
  {
   "cell_type": "code",
   "execution_count": 8,
   "metadata": {},
   "outputs": [
    {
     "data": {
      "text/plain": [
       "<matplotlib.axes._subplots.AxesSubplot at 0x7eff4ae68358>"
      ]
     },
     "execution_count": 8,
     "metadata": {},
     "output_type": "execute_result"
    },
    {
     "data": {
      "image/png": "[encoded data removed]",
      "text/plain": [
       "<Figure size 432x288 with 1 Axes>"
      ]
     },
     "metadata": {
      "needs_background": "light"
     },
     "output_type": "display_data"
    }
   ],
   "source": [
    "%matplotlib inline\n",
    "data.imdb_score.hist(bins= 15)"
   ]
  },
  {
   "cell_type": "markdown",
   "metadata": {},
   "source": [
    "Rather positive scores for movies. We can note that there are very few movies that note a 9 or higher.\n",
    "\n",
    "#### IMDB score by genre"
   ]
  },
  {
   "cell_type": "code",
   "execution_count": 9,
   "metadata": {},
   "outputs": [
    {
     "data": {
      "image/png": "[encoded data removed]",
      "text/plain": [
       "<Figure size 432x288 with 1 Axes>"
      ]
     },
     "metadata": {
      "needs_background": "light"
     },
     "output_type": "display_data"
    }
   ],
   "source": [
    "import matplotlib.pyplot as plt\n",
    "genres_ = data.set_index(data.index).genres.str.split(r'|', expand=True).stack().reset_index(level=1, drop=True).to_frame('genre'); \n",
    "genresIMDB = pd.concat([genres_, data.imdb_score], axis=1)\n",
    "genresIMDB.boxplot(column='imdb_score', by='genre')\n",
    "ax = plt.gca()\n",
    "t = ax.set_xticklabels(ax.get_xticklabels(),rotation=90)"
   ]
  },
  {
   "cell_type": "markdown",
   "metadata": {},
   "source": [
    "Scores by genre are rather centered around the mean value. We can notice that TV reality films are not appreciated. And that **comedies, biographies and war movies** tend to be more appreciated.\n",
    "\n",
    "### Top 10 directors - score IMDB\n",
    "\n",
    "We looked at the ten best directors in terms of appearance in the dataset and there IMDB Score"
   ]
  },
  {
   "cell_type": "code",
   "execution_count": 10,
   "metadata": {},
   "outputs": [
    {
     "data": {
      "image/png": "[encoded data removed]",
      "text/plain": [
       "<Figure size 432x288 with 1 Axes>"
      ]
     },
     "metadata": {
      "needs_background": "light"
     },
     "output_type": "display_data"
    }
   ],
   "source": [
    "directors_IMDB = pd.concat([data.director_name, data.imdb_score], axis=1)\n",
    "x = directors_IMDB.groupby('director_name').count().nlargest(10, columns = 'imdb_score').index.values\n",
    "directors_IMDB = directors_IMDB[np.in1d(directors_IMDB.director_name.values, x)]\n",
    "\n",
    "directors_IMDB.boxplot(column='imdb_score', by='director_name')\n",
    "ax = plt.gca()\n",
    "f = ax.set_xticklabels(ax.get_xticklabels(),rotation=90)"
   ]
  },
  {
   "cell_type": "markdown",
   "metadata": {},
   "source": [
    "The majority of those producers are above average score. We can notice that **Martin Scorcese and Steven Spielberg** have better mean scores in our dataset."
   ]
  },
  {
   "cell_type": "code",
   "execution_count": 11,
   "metadata": {},
   "outputs": [
    {
     "data": {
      "text/plain": [
       "7.617647058823529"
      ]
     },
     "execution_count": 11,
     "metadata": {},
     "output_type": "execute_result"
    }
   ],
   "source": [
    "directors_IMDB[directors_IMDB.director_name=='Martin Scorsese'].imdb_score.mean()"
   ]
  },
  {
   "cell_type": "code",
   "execution_count": 12,
   "metadata": {},
   "outputs": [
    {
     "data": {
      "text/plain": [
       "7.480769230769231"
      ]
     },
     "execution_count": 12,
     "metadata": {},
     "output_type": "execute_result"
    }
   ],
   "source": [
    "directors_IMDB[directors_IMDB.director_name=='Steven Spielberg'].imdb_score.mean()"
   ]
  },
  {
   "cell_type": "markdown",
   "metadata": {},
   "source": [
    "### Top 10 actors - score IMDB\n"
   ]
  },
  {
   "cell_type": "code",
   "execution_count": 13,
   "metadata": {},
   "outputs": [
    {
     "data": {
      "image/png": "[encoded data removed]",
      "text/plain": [
       "<Figure size 432x288 with 1 Axes>"
      ]
     },
     "metadata": {
      "needs_background": "light"
     },
     "output_type": "display_data"
    }
   ],
   "source": [
    "actor1 = data.actor_1_name.fillna('')\n",
    "actor2 = data.actor_2_name.fillna('')\n",
    "actor3 = data.actor_3_name.fillna('')\n",
    "actors = pd.concat([actor1, actor2, actor3], axis =1)\n",
    "actors_ = actors.set_index(actors.index).stack().reset_index(level=1, drop=True).to_frame('actors'); \n",
    "\n",
    "genresIMDB = pd.concat([actors_, data.imdb_score], axis=1)\n",
    "\n",
    "x = genresIMDB.groupby('actors').count().nlargest(10, columns = 'imdb_score').index.values\n",
    "genresIMDB = genresIMDB[np.in1d(genresIMDB.actors.values, x)]\n",
    "\n",
    "genresIMDB.boxplot(column='imdb_score', by='actors')\n",
    "ax = plt.gca()\n",
    "y = ax.set_xticklabels(ax.get_xticklabels(),rotation=90)"
   ]
  },
  {
   "cell_type": "markdown",
   "metadata": {},
   "source": [
    "### Movie facebook likes"
   ]
  },
  {
   "cell_type": "code",
   "execution_count": 14,
   "metadata": {},
   "outputs": [
    {
     "data": {
      "image/png": "[encoded data removed]",
      "text/plain": [
       "<Figure size 432x288 with 1 Axes>"
      ]
     },
     "metadata": {
      "needs_background": "light"
     },
     "output_type": "display_data"
    }
   ],
   "source": [
    "cast_total_facebook_likes = data.movie_facebook_likes\n",
    "bins = 10**(np.arange(0,4,0.1))\n",
    "cast_total_facebook_likes.hist(bins=bins)\n",
    "y = plt.semilogx()"
   ]
  },
  {
   "cell_type": "markdown",
   "metadata": {},
   "source": []
  },
  {
   "cell_type": "markdown",
   "metadata": {},
   "source": [
    "### Budget"
   ]
  },
  {
   "cell_type": "code",
   "execution_count": 15,
   "metadata": {},
   "outputs": [
    {
     "data": {
      "image/png": "[encoded data removed]",
      "text/plain": [
       "<Figure size 432x288 with 1 Axes>"
      ]
     },
     "metadata": {
      "needs_background": "light"
     },
     "output_type": "display_data"
    }
   ],
   "source": [
    "bins = 10**(np.arange(5,9,0.1))\n",
    "data.budget.hist(bins=bins)\n",
    "y = plt.semilogx()"
   ]
  },
  {
   "cell_type": "markdown",
   "metadata": {},
   "source": [
    "##### Budget by country"
   ]
  },
  {
   "cell_type": "markdown",
   "metadata": {},
   "source": []
  },
  {
   "cell_type": "code",
   "execution_count": 16,
   "metadata": {},
   "outputs": [
    {
     "data": {
      "image/png": "[encoded data removed]",
      "text/plain": [
       "<Figure size 432x288 with 1 Axes>"
      ]
     },
     "metadata": {
      "needs_background": "light"
     },
     "output_type": "display_data"
    }
   ],
   "source": [
    "budgetUS = data[data.country.values == 'USA'][['budget','country']]\n",
    "budgetFr = data[data.country.values == 'France'][['budget','country']]\n",
    "budgetUk = data[data.country.values == 'UK'][['budget','country']]\n",
    "budgetCanada = data[data.country.values == 'Canada'][['budget','country']]\n",
    "y = pd.concat([budgetUS, budgetCanada, budgetFr, budgetUk], axis = 0)\n",
    "y.boxplot(column='budget', by='country')\n",
    "y = plt.semilogy()"
   ]
  },
  {
   "cell_type": "markdown",
   "metadata": {},
   "source": [
    "No real disparity from US budget to european movies: this probably means that the foreign movies in our dataset are more international movies (more  budget)."
   ]
  },
  {
   "cell_type": "markdown",
   "metadata": {},
   "source": [
    "## Getting the data ready"
   ]
  },
  {
   "cell_type": "code",
   "execution_count": 17,
   "metadata": {},
   "outputs": [],
   "source": [
    "num_critic_for_reviews = data.num_critic_for_reviews\n",
    "director_facebook_likes = data.director_facebook_likes\n",
    "actor_3_facebook_likes = data.actor_3_facebook_likes\n",
    "actor_1_facebook_likes = data.actor_1_facebook_likes\n",
    "num_voted_users = data.actor_1_facebook_likes\n",
    "cast_total_facebook_likes = data.actor_1_facebook_likes\n",
    "facenumber_in_poster = data.facenumber_in_poster\n",
    "num_user_for_reviews = data.num_user_for_reviews\n",
    "actor_2_facebook_likes = data.actor_2_facebook_likes\n",
    "movie_facebook_likes = data.movie_facebook_likes\n",
    "duration = data.duration\n",
    "gross = data.gross\n",
    "budget = data.budget\n",
    "title_year = data.title_year\n",
    "imdb_score = data.imdb_score\n",
    "aspect_ratio = data.aspect_ratio\n",
    "movie_title = data.movie_title"
   ]
  },
  {
   "cell_type": "markdown",
   "metadata": {},
   "source": [
    "### Director name\n",
    "\n",
    "We're only going to take directors names with more than 10 films (taking all the directors doesn't necessearily add value to the dataset and make the dataset way bigger in terms of data volume)."
   ]
  },
  {
   "cell_type": "code",
   "execution_count": 18,
   "metadata": {},
   "outputs": [],
   "source": [
    "#set up categorical data director_name\n",
    "director_name = pd.get_dummies(data.director_name).groupby(level=0).sum()\n",
    "directors_index = np.argwhere(sum(director_name.values == 1) > 10)[:,0]\n",
    "director_name = director_name.iloc[:,directors_index]"
   ]
  },
  {
   "cell_type": "markdown",
   "metadata": {},
   "source": [
    "### Actors\n",
    "\n",
    "Same for actors only we're going to take actors name features for actors that have at least 25 films in the dataset."
   ]
  },
  {
   "cell_type": "code",
   "execution_count": 19,
   "metadata": {},
   "outputs": [],
   "source": [
    "actor1 = data.actor_1_name\n",
    "actor2 = data.actor_2_name\n",
    "actor3 = data.actor_3_name\n",
    "actors = pd.concat([actor1, actor2, actor3], axis = 1)\n",
    "cleaned = actors.set_index(actors.index).stack().reset_index(level=1, drop=True).to_frame('actors'); \n",
    "actors = pd.get_dummies(cleaned).groupby(level=0).sum()\n",
    "actors = actors.drop('actors_', 1)\n",
    "actors_index = np.argwhere(sum(actors.values == 1) > 25)[:,0]\n",
    "actors = actors.iloc[:,actors_index]"
   ]
  },
  {
   "cell_type": "markdown",
   "metadata": {},
   "source": [
    "### Genres "
   ]
  },
  {
   "cell_type": "code",
   "execution_count": 20,
   "metadata": {},
   "outputs": [],
   "source": [
    "cleaned = data.set_index(data.index).genres.str.split(r'|', expand=True).stack().reset_index(level=1, drop=True).to_frame('genre'); \n",
    "genres = pd.get_dummies(cleaned).groupby(level=0).sum()"
   ]
  },
  {
   "cell_type": "markdown",
   "metadata": {},
   "source": [
    "### Content rating"
   ]
  },
  {
   "cell_type": "code",
   "execution_count": 21,
   "metadata": {},
   "outputs": [],
   "source": [
    "content_rating = pd.get_dummies(data[['content_rating']]).groupby(level=0).sum()\n",
    "content_rating = content_rating.drop('content_rating_', 1)"
   ]
  },
  {
   "cell_type": "markdown",
   "metadata": {},
   "source": [
    "### Countries"
   ]
  },
  {
   "cell_type": "code",
   "execution_count": 22,
   "metadata": {},
   "outputs": [],
   "source": [
    "country = pd.get_dummies(data[['country']]).groupby(level=0).sum()\n",
    "country = country.drop('country_', 1)\n",
    "country_index = np.argwhere(sum(country.values == 1) > 10)[:,0]\n",
    "country = country.iloc[:,country_index]"
   ]
  },
  {
   "cell_type": "markdown",
   "metadata": {},
   "source": [
    "### Color movies"
   ]
  },
  {
   "cell_type": "code",
   "execution_count": 23,
   "metadata": {},
   "outputs": [],
   "source": [
    "color = pd.get_dummies(data[['color']]).groupby(level=0).sum()\n",
    "color = color.drop('color_Color', 1)"
   ]
  }
 ],
 "metadata": {
  "kernelspec": {
   "display_name": "Python 3",
   "language": "python",
   "name": "python3"
  },
  "language_info": {
   "codemirror_mode": {
    "name": "ipython",
    "version": 3
   },
   "file_extension": ".py",
   "mimetype": "text/x-python",
   "name": "python",
   "nbconvert_exporter": "python",
   "pygments_lexer": "ipython3",
   "version": "3.7.3"
  }
 },
 "nbformat": 4,
 "nbformat_minor": 2
}
