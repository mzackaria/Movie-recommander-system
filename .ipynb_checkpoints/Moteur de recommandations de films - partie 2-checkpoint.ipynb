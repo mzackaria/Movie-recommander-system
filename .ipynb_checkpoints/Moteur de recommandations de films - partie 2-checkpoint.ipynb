{
 "cells": [
  {
   "cell_type": "markdown",
   "metadata": {},
   "source": [
    "# Moteur de recommendations de films - Partie 2\n",
    "\n",
    "## Introduction\n",
    "\n",
    "Nous avons précédemment étudier un jeu de données de films. Nous avons préparer les données pour l'étude à venir. Nous allons étudier dans cette partie les différentes manières de faire une catégorisation de nos données. Notre but est de pouvoir proposer à un utilisateur 5 films similaires au film envoyé. Et retenir celle qui nous semble la plus pertinente.\n"
   ]
  },
  {
   "cell_type": "code",
   "execution_count": 2,
   "metadata": {},
   "outputs": [],
   "source": [
    "from preprocessing_dataset import color,\\\n",
    "num_critic_for_reviews,\\\n",
    "director_facebook_likes,\\\n",
    "actor_3_facebook_likes,\\\n",
    "actor_1_facebook_likes,\\\n",
    "num_voted_users,\\\n",
    "cast_total_facebook_likes,\\\n",
    "facenumber_in_poster,\\\n",
    "num_user_for_reviews,\\\n",
    "actor_2_facebook_likes,\\\n",
    "movie_facebook_likes,\\\n",
    "duration,\\\n",
    "gross,\\\n",
    "budget,\\\n",
    "title_year,\\\n",
    "imdb_score,\\\n",
    "aspect_ratio,\\\n",
    "movie_title,\\\n",
    "director_name,\\\n",
    "actors,\\\n",
    "genres,\\\n",
    "content_rating,\\\n",
    "country,\\\n",
    "ratio_gross_budget "
   ]
  },
  {
   "cell_type": "markdown",
   "metadata": {},
   "source": [
    "## 1 - Distances\n",
    "\n",
    "Nous pouvons tout d'abord renvoyer les 5 films les plus proches du film envoyé. Différents types de distances sont possibles\n",
    "\n",
    "Nous allons tout d'abors construire notre jeu de donnée en sélectionnant toutes les variables puis nous allons redimensionneer nos valeurs. \n"
   ]
  },
  {
   "cell_type": "code",
   "execution_count": 6,
   "metadata": {},
   "outputs": [],
   "source": [
    "import pandas as pd\n",
    "import numpy as np\n",
    "values = np.concatenate((color,\\\n",
    "num_critic_for_reviews,\\\n",
    "director_facebook_likes,\\\n",
    "actor_3_facebook_likes,\\\n",
    "actor_1_facebook_likes,\\\n",
    "num_voted_users,\\\n",
    "cast_total_facebook_likes,\\\n",
    "facenumber_in_poster,\\\n",
    "num_user_for_reviews,\\\n",
    "actor_2_facebook_likes,\\\n",
    "movie_facebook_likes,\\\n",
    "duration,\\\n",
    "gross,\\\n",
    "budget,\\\n",
    "title_year,\\\n",
    "imdb_score,\\\n",
    "aspect_ratio,\\\n",
    "director_name,\\\n",
    "actors,\\\n",
    "genres,\\\n",
    "content_rating,\\\n",
    "country,\\\n",
    "ratio_gross_budget), axis = 1 )\n",
    "index = movie_title.values\n",
    "columns = np.concatenate((color.columns,\\\n",
    "num_critic_for_reviews.columns,\\\n",
    "director_facebook_likes.columns,\\\n",
    "actor_3_facebook_likes.columns,\\\n",
    "actor_1_facebook_likes.columns,\\\n",
    "num_voted_users.columns,\\\n",
    "cast_total_facebook_likes.columns,\\\n",
    "facenumber_in_poster.columns,\\\n",
    "num_user_for_reviews.columns,\\\n",
    "actor_2_facebook_likes.columns,\\\n",
    "movie_facebook_likes.columns,\\\n",
    "duration.columns,\\\n",
    "gross.columns,\\\n",
    "budget.columns,\\\n",
    "title_year.columns,\\\n",
    "imdb_score.columns,\\\n",
    "aspect_ratio.columns,\\\n",
    "director_name.columns,\\\n",
    "actors.columns,\\\n",
    "genres.columns,\\\n",
    "content_rating.columns,\\\n",
    "country.columns,\\\n",
    "ratio_gross_budget.columns), axis = 0 )\n",
    "data = pd.DataFrame(values, index = index, columns = columns)\n",
    "\n",
    "from sklearn.preprocessing import StandardScaler\n",
    "sc = StandardScaler()\n",
    "X = sc.fit_transform(data)"
   ]
  },
  {
   "cell_type": "markdown",
   "metadata": {},
   "source": [
    "### Distance de Manhattan"
   ]
  },
  {
   "cell_type": "code",
   "execution_count": 16,
   "metadata": {},
   "outputs": [],
   "source": [
    "from sklearn.neighbors import DistanceMetric\n",
    "dist_manhattan = DistanceMetric.get_metric('manhattan')\n",
    "manhattan = dist_manhattan.pairwise(X)"
   ]
  },
  {
   "cell_type": "markdown",
   "metadata": {},
   "source": [
    "### Distance euclidienne"
   ]
  },
  {
   "cell_type": "code",
   "execution_count": 17,
   "metadata": {},
   "outputs": [],
   "source": [
    "from sklearn.neighbors import DistanceMetric\n",
    "dist = DistanceMetric.get_metric('euclidean')\n",
    "euclidian = dist.pairwise(X)"
   ]
  },
  {
   "cell_type": "markdown",
   "metadata": {},
   "source": [
    "### Distance Chebyshev"
   ]
  },
  {
   "cell_type": "code",
   "execution_count": 18,
   "metadata": {},
   "outputs": [],
   "source": [
    "from sklearn.neighbors import DistanceMetric\n",
    "dist = DistanceMetric.get_metric('chebyshev')\n",
    "chebyshev = dist.pairwise(X)"
   ]
  },
  {
   "cell_type": "markdown",
   "metadata": {},
   "source": [
    "### Distance de Minkowski"
   ]
  },
  {
   "cell_type": "code",
   "execution_count": 14,
   "metadata": {},
   "outputs": [],
   "source": [
    "from sklearn.neighbors import DistanceMetric\n",
    "dist = DistanceMetric.get_metric('minkowski', p = 10)\n",
    "minkowski = dist.pairwise(X)"
   ]
  },
  {
   "cell_type": "markdown",
   "metadata": {},
   "source": [
    "Nous allons comparer ces distances et leurs efficacités pour nous recommander des films similaires."
   ]
  },
  {
   "cell_type": "code",
   "execution_count": 19,
   "metadata": {},
   "outputs": [
    {
     "name": "stdout",
     "output_type": "stream",
     "text": [
      "                                                                                         euclidian  \\\n",
      "(Avatar ,)                                          The Lord of the Rings: The Return of the King    \n",
      "(Pirates of the Caribbean: At World's End ,)           Pirates of the Caribbean: Dead Man's Chest    \n",
      "(Spectre ,)                                                                               Skyfall    \n",
      "(The Dark Knight Rises ,)                                                               Inception    \n",
      "(Star Wars: Episode VII - The Force Awakens    ...                  Crop Circles: Quest for Truth    \n",
      "(John Carter ,)                                                                     Green Lantern    \n",
      "(Tangled ,)                                                                             Enchanted    \n",
      "(Avengers: Age of Ultron ,)                                                          The Avengers    \n",
      "(Harry Potter and the Half-Blood Prince ,)               Harry Potter and the Prisoner of Azkaban    \n",
      "(Batman v Superman: Dawn of Justice ,)                                               Man of Steel    \n",
      "\n",
      "                                                                                      manhattan  \\\n",
      "(Avatar ,)                                                                        Man of Steel    \n",
      "(Pirates of the Caribbean: At World's End ,)        Pirates of the Caribbean: Dead Man's Chest    \n",
      "(Spectre ,)                                                                            Skyfall    \n",
      "(The Dark Knight Rises ,)                                                            Inception    \n",
      "(Star Wars: Episode VII - The Force Awakens    ...               Crop Circles: Quest for Truth    \n",
      "(John Carter ,)                                                                  Green Lantern    \n",
      "(Tangled ,)                                                                          Enchanted    \n",
      "(Avengers: Age of Ultron ,)                                                       The Avengers    \n",
      "(Harry Potter and the Half-Blood Prince ,)            Harry Potter and the Prisoner of Azkaban    \n",
      "(Batman v Superman: Dawn of Justice ,)                                            Man of Steel    \n",
      "\n",
      "                                                                                      chebyshev  \\\n",
      "(Avatar ,)                                                                             Titanic    \n",
      "(Pirates of the Caribbean: At World's End ,)        Pirates of the Caribbean: Dead Man's Chest    \n",
      "(Spectre ,)                                                                            Skyfall    \n",
      "(The Dark Knight Rises ,)                                                      American Hustle    \n",
      "(Star Wars: Episode VII - The Force Awakens    ...                   Ghost Hunters                \n",
      "(John Carter ,)                                                                  Green Lantern    \n",
      "(Tangled ,)                                                                          Enchanted    \n",
      "(Avengers: Age of Ultron ,)                                                       The Avengers    \n",
      "(Harry Potter and the Half-Blood Prince ,)            Harry Potter and the Prisoner of Azkaban    \n",
      "(Batman v Superman: Dawn of Justice ,)                                        The Hunger Games    \n",
      "\n",
      "                                                                                      minkowski  \n",
      "(Avatar ,)                                                                             Titanic   \n",
      "(Pirates of the Caribbean: At World's End ,)        Pirates of the Caribbean: Dead Man's Chest   \n",
      "(Spectre ,)                                                                            Skyfall   \n",
      "(The Dark Knight Rises ,)                                                      American Hustle   \n",
      "(Star Wars: Episode VII - The Force Awakens    ...               Crop Circles: Quest for Truth   \n",
      "(John Carter ,)                                                                  Green Lantern   \n",
      "(Tangled ,)                                                                          Enchanted   \n",
      "(Avengers: Age of Ultron ,)                                                       The Avengers   \n",
      "(Harry Potter and the Half-Blood Prince ,)            Harry Potter and the Prisoner of Azkaban   \n",
      "(Batman v Superman: Dawn of Justice ,)                                        The Hunger Games   \n"
     ]
    }
   ],
   "source": [
    "for i in range(0,len(euclidian)):\n",
    "    euclidian[i,i] = 10000\n",
    "    manhattan[i,i] = 10000\n",
    "    chebyshev[i,i] = 10000\n",
    "    minkowski[i,i] = 10000\n",
    "\n",
    "euclidian = movie_title.values[np.argmin(euclidian, axis = 0)].astype(str)\n",
    "manhattan = movie_title.values[np.argmin(manhattan, axis = 0)].astype(str)\n",
    "chebyshev = movie_title.values[np.argmin(chebyshev, axis = 0)].astype(str)\n",
    "minkowski = movie_title.values[np.argmin(minkowski, axis = 0)].astype(str)\n",
    "\n",
    "values = np.concatenate((euclidian, manhattan, chebyshev, minkowski), axis = 1)\n",
    "index = movie_title.values\n",
    "columns = ['euclidian', 'manhattan', 'chebyshev', 'minkowski']\n",
    "result = pd.DataFrame(values, index = index, columns = columns)\n",
    "\n",
    "print(result[:10])"
   ]
  },
  {
   "cell_type": "markdown",
   "metadata": {},
   "source": [
    "Nous n'avons pas d'autres critères qu'un critère purement subjetif pour comparer ces distances. On remarque que pour certains des films le plus proche voisin est le même. Pour d'autres films, les films les plus proches sont différents.\n",
    "\n",
    "Nous observons que la distance de Chebyshev est celle qui parait donner les moins bonnes prédictions: là où les autres distances donnent le même plus proche voisin cette distance donne un film qui parait moins ressemblant. \n",
    "\n",
    "Pour la distance de Manhattan on observe également des différences assez significatives, on peut remarquer que pour certains films la prédiction n'est pas très précises par exemple:"
   ]
  },
  {
   "cell_type": "code",
   "execution_count": 13,
   "metadata": {},
   "outputs": [
    {
     "name": "stdout",
     "output_type": "stream",
     "text": [
      "                                         euclidian  manhattan  \\\n",
      "(A Christmas Carol ,)  Back to the Future Part II   The Walk    \n",
      "\n",
      "                                         chebyshev  \\\n",
      "(A Christmas Carol ,)  Back to the Future Part II    \n",
      "\n",
      "                                         minkowski  \n",
      "(A Christmas Carol ,)  Back to the Future Part II   \n"
     ]
    }
   ],
   "source": [
    "print(result[movie_title.values.astype(str) == 'A Christmas Carol\\xa0'])"
   ]
  },
  {
   "cell_type": "markdown",
   "metadata": {},
   "source": [
    "Les distances de Minkowski et euclidienne apportent des résultats similaires. Ce n'est pas étonnant, car si on prend une puissance égal à 2 dans la formule de Minkowski, les distances sont les mêmes. Cependant on observe des différences entre les deux distances et il apparait que c'est la distance euclidienne qui donne les résultats les plus pertinents. On peut le voir dans cette exemple:"
   ]
  },
  {
   "cell_type": "code",
   "execution_count": 22,
   "metadata": {},
   "outputs": [
    {
     "name": "stdout",
     "output_type": "stream",
     "text": [
      "                                            euclidian  \\\n",
      "(Man of Steel ,)  Batman v Superman: Dawn of Justice    \n",
      "\n",
      "                                            manhattan          chebyshev  \\\n",
      "(Man of Steel ,)  Batman v Superman: Dawn of Justice   The Hunger Games    \n",
      "\n",
      "                          minkowski  \n",
      "(Man of Steel ,)  The Hunger Games   \n"
     ]
    }
   ],
   "source": [
    "print(result[movie_title.values.astype(str) == 'Man of Steel\\xa0'])"
   ]
  },
  {
   "cell_type": "markdown",
   "metadata": {},
   "source": [
    "On a retenu ici la distance euclidienne parmi les quatre distances étudiés. On pourrait simplement proposer les 5 plus proches voisins à l'utilisateur, cependant on retournerait toujours les mêmes 5 films. Il est intéressant d'essayer de proposer à l'utilisateur des films différents à chaque fois. Ce pourquoi nous allons plutôt nous tourner vers des algorithmes de  type clustering. Nous allons étudier les plus connus: clustering hiérarhique et k-means."
   ]
  },
  {
   "cell_type": "markdown",
   "metadata": {},
   "source": [
    "## Clustering Hierachique\n",
    "\n",
    "Nous allons tout d'abord observer le dendogramme de nos données pour voir si ce type de clustering a du sens."
   ]
  },
  {
   "cell_type": "code",
   "execution_count": 24,
   "metadata": {},
   "outputs": [
    {
     "data": {
      "image/png": "[encoded data removed]",
      "text/plain": [
       "<matplotlib.figure.Figure at 0x1ff0aa415c0>"
      ]
     },
     "metadata": {},
     "output_type": "display_data"
    }
   ],
   "source": [
    "# Using the dendrogram to find the optimal number of clusters\n",
    "%matplotlib inline\n",
    "import matplotlib.pyplot as plt\n",
    "import scipy.cluster.hierarchy as sch\n",
    "dendrogram = sch.dendrogram(sch.linkage(X, method = 'ward'))\n",
    "plt.title('Dendrogram')\n",
    "plt.xlabel('Films')\n",
    "plt.ylabel('Euclidean distances')\n",
    "plt.show()"
   ]
  },
  {
   "cell_type": "markdown",
   "metadata": {},
   "source": [
    "On voit qu'il est très compliqué ici de distinguer des classes. On peut essayer une réduction de dimension. Nous allons utliser une pca en conservant une variance de 80%."
   ]
  },
  {
   "cell_type": "code",
   "execution_count": 27,
   "metadata": {},
   "outputs": [],
   "source": [
    "from sklearn import decomposition\n",
    "pca = decomposition.PCA(n_components=0.8)\n",
    "pca.fit(X)\n",
    "X_PCA = pd.DataFrame(pca.transform(X), index = data.index)"
   ]
  },
  {
   "cell_type": "markdown",
   "metadata": {},
   "source": [
    "Nous avions un dataset avec 134 variables. Nous avons maintenant un dataset avec 84 variables."
   ]
  },
  {
   "cell_type": "code",
   "execution_count": 28,
   "metadata": {},
   "outputs": [
    {
     "data": {
      "image/png": "[encoded data removed]",
      "text/plain": [
       "<matplotlib.figure.Figure at 0x1ff04eff160>"
      ]
     },
     "metadata": {},
     "output_type": "display_data"
    }
   ],
   "source": [
    "%matplotlib inline\n",
    "dendrogram = sch.dendrogram(sch.linkage(X_PCA, method = 'ward'))\n",
    "plt.title('Dendrogram')\n",
    "plt.xlabel('Films')\n",
    "plt.ylabel('Euclidean distances')\n",
    "plt.show()"
   ]
  },
  {
   "cell_type": "markdown",
   "metadata": {},
   "source": [
    "On remarque qu'ici également la séparation est compliqué. On peut essayer d'aller à un extrême et ne sélectionner que les variables muettes correspondant aux genres. Cela nous permettra de voir si une catégorisation est possible en simplifiant au maximum et ne gardant que les variables qui nous semblent les plus intéressantes pour effectuer une catégorisation. "
   ]
  },
  {
   "cell_type": "code",
   "execution_count": 34,
   "metadata": {},
   "outputs": [
    {
     "data": {
      "image/png": "[encoded data removed]",
      "text/plain": [
       "<matplotlib.figure.Figure at 0x1ff0d4e33c8>"
      ]
     },
     "metadata": {},
     "output_type": "display_data"
    }
   ],
   "source": [
    "%matplotlib inline\n",
    "dendrogram = sch.dendrogram(sch.linkage(genres, method = 'ward'))\n",
    "plt.title('Dendrogram')\n",
    "plt.xlabel('Films')\n",
    "plt.ylabel('Euclidean distances')\n",
    "plt.plot(range(0, 500000), 17*np.ones(500000))\n",
    "plt.show()"
   ]
  },
  {
   "cell_type": "markdown",
   "metadata": {},
   "source": [
    "Ici la catégorisation permet de distinguer un endroit où l'on peut \"couper\" notre dendogram et distinguer un certain nombre de classes: au total 18 classes. On ne voit donc pas beaucoup de classes grâce à cette catégorisation. Si on ne se base que sur les genres, on voirt qu'une classification est possible, seulement on a rejeté une très grosse partie de l'information contenue dans notre dataset. On voit la complexité que peut avoir cette méthode, même avec seulement les variables correspondant aux genres, on arrive à des résultats qu'on juge non satisfaisant. On rajoute à la décharge de cette méthode la complexité du calcul qui nous demande un temps de calcul assez long."
   ]
  },
  {
   "cell_type": "markdown",
   "metadata": {},
   "source": [
    "## K-means\n",
    "\n",
    "Le dernier algorithme que nous allons utiliser est le k-means. Nous allons directement utiliser une pca pour réduire la dimension de notre dataset directement pour simplement limiter le nombre de calculs. Nous allons utiliser cette algorithme et nous allons observer le coefficient de silhouette pour déterminer le nombre de clusters."
   ]
  },
  {
   "cell_type": "code",
   "execution_count": 36,
   "metadata": {},
   "outputs": [
    {
     "data": {
      "image/png": "[encoded data removed]",
      "text/plain": [
       "<matplotlib.figure.Figure at 0x1ff06ea3208>"
      ]
     },
     "metadata": {},
     "output_type": "display_data"
    }
   ],
   "source": [
    "from sklearn.cluster import KMeans\n",
    "from sklearn.metrics import silhouette_score\n",
    "score = []\n",
    "for i in range(5, 150, 5):\n",
    "    kmeans = KMeans(n_clusters = i, init = 'k-means++')\n",
    "    kmeans.fit(X_PCA)\n",
    "    score.append(silhouette_score(X_PCA.values, kmeans.predict(X_PCA)))\n",
    "    \n",
    "plt.plot(range(5, 150, 5), score)\n",
    "plt.title('Silhouette')\n",
    "plt.xlabel('Number of clusters')\n",
    "plt.ylabel('Silhouette Score vs nb clusters')\n",
    "plt.show()"
   ]
  },
  {
   "cell_type": "markdown",
   "metadata": {},
   "source": [
    "On remarque que le coefficient de silhouette se stabilise après approximativement 110 clusters."
   ]
  },
  {
   "cell_type": "code",
   "execution_count": 41,
   "metadata": {},
   "outputs": [
    {
     "data": {
      "text/plain": [
       "0.23653596036624874"
      ]
     },
     "execution_count": 41,
     "metadata": {},
     "output_type": "execute_result"
    }
   ],
   "source": [
    "max(np.array(score))"
   ]
  },
  {
   "cell_type": "markdown",
   "metadata": {},
   "source": [
    "On pourrait s'arrêter ici et considérer que le bon nombre de clusters pour le kmeans est 110. Nous avons effectuer une catégorisation de nos films. Cependant il est intéressant ici de regarder la catégorisation de nos films sur les variables genres."
   ]
  },
  {
   "cell_type": "code",
   "execution_count": 42,
   "metadata": {},
   "outputs": [
    {
     "data": {
      "image/png": "[encoded data removed]",
      "text/plain": [
       "<matplotlib.figure.Figure at 0x1ff153bd5f8>"
      ]
     },
     "metadata": {},
     "output_type": "display_data"
    }
   ],
   "source": [
    "from sklearn.cluster import KMeans\n",
    "from sklearn.metrics import silhouette_score\n",
    "score = []\n",
    "for i in range(5, 150, 5):\n",
    "    kmeans = KMeans(n_clusters = i, init = 'k-means++')\n",
    "    kmeans.fit(genres)\n",
    "    score.append(silhouette_score(genres.values, kmeans.predict(genres)))\n",
    "    \n",
    "plt.plot(range(5, 150, 5), score)\n",
    "plt.title('Silhouette')\n",
    "plt.xlabel('Number of clusters')\n",
    "plt.ylabel('Silhouette Score vs nb clusters for genres')\n",
    "plt.show()"
   ]
  },
  {
   "cell_type": "markdown",
   "metadata": {},
   "source": [
    "Il est intéressant ici de voir qu'il n'y a pas vraiment de \"plateau\". Plus on augmente le nombre de clusters plus le coefficient de silhouette augmente. Ce qui veut dire que la classification n'a pas beaucoup de sens ici. On remarque également que pour un nombre de clusters égale le coefficient de silhouette est bien plus grand lorsque l'on ne sélectionne que les genres.\n",
    "\n",
    "On peut alors observer une autre méthode, on observe l'inertie de notre algorithme ou le wcss (Within Cluster Sum of Squares). Une variable que nous voulons diminuer le plus possible, elle représente le coefficient qui indique la compactibilité de nos clusters. Il nous sera plus facile alors de distinguer le nombre de clusters par la \"méthode du coude\" ou \"elbow method\" en anglais. "
   ]
  },
  {
   "cell_type": "code",
   "execution_count": 44,
   "metadata": {},
   "outputs": [
    {
     "data": {
      "image/png": "[encoded data removed]",
      "text/plain": [
       "<matplotlib.figure.Figure at 0x1ff0675a198>"
      ]
     },
     "metadata": {},
     "output_type": "display_data"
    }
   ],
   "source": [
    "from sklearn.cluster import KMeans\n",
    "from sklearn.metrics import silhouette_score\n",
    "wcss = []\n",
    "for i in range(5, 150, 5):\n",
    "    kmeans = KMeans(n_clusters = i, init = 'k-means++')\n",
    "    kmeans.fit(genres)\n",
    "    wcss.append(kmeans.inertia_)\n",
    "    \n",
    "plt.plot(range(5, 150, 5), wcss)\n",
    "plt.title('The Elbow Method')\n",
    "plt.xlabel('Number of clusters')\n",
    "plt.ylabel('WCSS')\n",
    "plt.show()"
   ]
  },
  {
   "cell_type": "markdown",
   "metadata": {},
   "source": [
    "Ici, on observe que le nombre optimal de clusters est de approximativement 25 clusters. Pour 25 clusters, le coefficient de silhouette est de :"
   ]
  },
  {
   "cell_type": "code",
   "execution_count": 48,
   "metadata": {},
   "outputs": [
    {
     "data": {
      "text/plain": [
       "0.28661261682750694"
      ]
     },
     "execution_count": 48,
     "metadata": {},
     "output_type": "execute_result"
    }
   ],
   "source": [
    "score[4]"
   ]
  },
  {
   "cell_type": "markdown",
   "metadata": {},
   "source": [
    " On a un meilleur coefficient de silhouette que lorsque l'on sélectionnait toutes les varibales.\n",
    " \n",
    "Que faire donc? \n",
    "\n",
    "Ces observations nous amènent à nous poser la question de la sélection de nos variables. En effet, pour notre k-means, nous avons tout d'abord pris toutes les variables. Ensuite simplement les genres. Comment choisit-on nos variables?\n",
    "\n",
    "Lorsqu'on avait sélectionné toutes nos variables, on dit à notre algorithme qu'elles ont toutes la même importance, lorsque que l'on sélectionne seuls les genres, tout se passe comme si on disait à notre algorithme que les autres variables n'ont aucune importance.\n",
    "\n",
    "Comment fait-on alors pour indiquer à notre algorithme l'importance des variables. Et, d'ailleurs, de quoi parle-t-on lorsque l'on parle d'importance?\n",
    "\n",
    "L'importance d'une variable est la variance qu'elle va créer au sein de notre dataset. On veut que cette variance est un sens. On veut que l'importance de notre variable soit indicative de l'importance qu'elle va avoir lorsque l'on va recommander un film. Par exemple, une variable type \"nombre de figurant dans le film\" ne sera pas une variable qui sera importante: on dit rarement à quelqu'un: \"il faut que tu vois ce film, il y a 2000 figurants dedans, comme dans le film \"Barry Trotter 2\"\". Par contre, on indiquera effectivement le genre, la note imdb qui sont de bons indicateurs pour recommander un film.\n",
    "\n",
    "On propose donc une liste classée des variables les plus importantes de notre dataset (cette liste est purement subjective et on peut ne pas être d'accord avec ce classement):\n",
    "\n",
    "    + genres\n",
    "    + score_imdb\n",
    "    + content-rating\n",
    "    + country\n",
    "    + duration\n",
    "    + director_name\n",
    "    + title_year\n",
    "    + actors\n",
    "    + budget\n",
    "    + color\n",
    "    + movie_facebook_likes\n",
    "    + cast_total_facebook_likes\n",
    "    \n",
    "Les autres variables ne nous apparaissent pas avoir une importance pour recommander un film. Parmi ces variables, il y a:\n",
    "\n",
    "    + num_user_for_reviews : parfois il est simplement question d'un film dont on entend beaucoup parler mais on a pas forcément envie de regrouper des films qui font simplement parti des films qui ont créé le buzz.\n",
    "    + aspect_ratio : peu importe comment a été filmé le film (encore une fois ceux-ci sont des critères simplement subjectifs).\n",
    "    \n",
    "Nous avons établi un classement de nos variables. Nous allons maintenant expliquer comment faire pour leurs données une importance plus ou moins grande dans notre algorithme.\n",
    "\n",
    "Nous allons simplement définir les échelles sur lesquelles vont s'étaler les valeurs de notre variable. On a vu précédemment que nous avions rétabli l'échelle de nos variables grâce au StandardScaler. Nous allons maintenant diminuer cette échelle en fonction de l'importance de la variable. En effet si les valeurs d'une variable s'étendent sur l'intervalle [0 , 1] et qu'on multiplie toutes nos valeurs par, par exemple, 50%, les valeurs s'étendront sur [0 , 0.5]. On a donc rapprocher toutes nos valeurs sur un intervalle plus petit et on a donc diminuer la variance exprimé par cette variable de (de 50%).\n",
    "\n",
    "**Remarque** : il ne s'agit pas ici d'optimiser un critère objectif comme le coefficient de silhouette car comme on l'a expliqué précédemment, il ne s'agit pas de créer une variance pour regrouper des variables, il faut que la variance qui est exprimé dans nos variables convergent vers notre but qui est de recommander un film.\n",
    "\n",
    "Nous allons donc préparer notre nouveau dataset en pondérant les valeurs variables. Nous allons simplement présenter le résultat final qui est l'aboutissement de plusieurs essais."
   ]
  },
  {
   "cell_type": "code",
   "execution_count": 49,
   "metadata": {},
   "outputs": [
    {
     "name": "stderr",
     "output_type": "stream",
     "text": [
      "c:\\users\\zakis\\anaconda3\\lib\\site-packages\\sklearn\\utils\\validation.py:429: DataConversionWarning: Data with input dtype uint8 was converted to float64 by StandardScaler.\n",
      "  warnings.warn(msg, _DataConversionWarning)\n",
      "c:\\users\\zakis\\anaconda3\\lib\\site-packages\\sklearn\\utils\\validation.py:429: DataConversionWarning: Data with input dtype int64 was converted to float64 by StandardScaler.\n",
      "  warnings.warn(msg, _DataConversionWarning)\n"
     ]
    },
    {
     "data": {
      "image/png": "[encoded data removed]",
      "text/plain": [
       "<matplotlib.figure.Figure at 0x1ff06ef1128>"
      ]
     },
     "metadata": {},
     "output_type": "display_data"
    }
   ],
   "source": [
    "values = np.concatenate((sc.fit_transform(genres.values), \n",
    "                         sc.fit_transform(imdb_score.values), \n",
    "                         0.3*sc.fit_transform(content_rating.values), \n",
    "                         0.25*sc.fit_transform(country.values), \n",
    "                         0.2*sc.fit_transform(duration.values),\n",
    "                         0.15*sc.fit_transform(director_name.values), \n",
    "                         0.1*sc.fit_transform(title_year.values), \n",
    "                         0.1*sc.fit_transform(actors.values),  \n",
    "                         0.1*sc.fit_transform(budget.values),  \n",
    "                         0.05*sc.fit_transform(color.values),  \n",
    "                         0.05*sc.fit_transform(movie_facebook_likes.values),  \n",
    "                         0.05*sc.fit_transform(cast_total_facebook_likes.values)), axis = 1)\n",
    "columns = np.concatenate((genres.columns, imdb_score.columns, content_rating.columns, country.columns,duration.columns,director_name.columns,title_year.columns, actors.columns, budget.columns, color.columns, movie_facebook_likes.columns, cast_total_facebook_likes.columns), axis = 0)\n",
    "data_normalized = pd.DataFrame(values, index = movie_title.values, columns =  columns)\n",
    "\n",
    "pca = decomposition.PCA(n_components=0.8)\n",
    "pca.fit(data_normalized.values)\n",
    "X_PCA = pd.DataFrame(pca.transform(data_normalized.values), index = data.index)\n",
    "\n",
    "from sklearn.cluster import KMeans\n",
    "from sklearn.metrics import silhouette_score\n",
    "wcss = []\n",
    "score = []\n",
    "for i in range(5, 150, 5):\n",
    "    kmeans = KMeans(n_clusters = i, init = 'k-means++', random_state = 42)\n",
    "    kmeans.fit(X_PCA)\n",
    "    wcss.append(kmeans.inertia_)\n",
    "    score.append(silhouette_score(X_PCA.values, kmeans.predict(X_PCA)))\n",
    "\n",
    "plt.plot(range(5, 150, 5), score)\n",
    "plt.title('Silhouette')\n",
    "plt.xlabel('Number of clusters')\n",
    "plt.ylabel('Silhouette Score')\n",
    "plt.show()\n"
   ]
  },
  {
   "cell_type": "markdown",
   "metadata": {},
   "source": [
    "On voit des résultats assez satisfaisant on peut choisir ici un k = 40. On peut observer le coefficient de silhouette pour k = 40."
   ]
  },
  {
   "cell_type": "code",
   "execution_count": 52,
   "metadata": {},
   "outputs": [
    {
     "data": {
      "text/plain": [
       "0.30110223045827189"
      ]
     },
     "execution_count": 52,
     "metadata": {},
     "output_type": "execute_result"
    }
   ],
   "source": [
    "score[7]"
   ]
  },
  {
   "cell_type": "markdown",
   "metadata": {},
   "source": [
    "Le coefficient de silhouette a augmenté vis à vis des autres configurations. On choisit cette configuration pour recommander des films. \n",
    "\n",
    "A noter que pour certaines des classes il y a moins de 5 films. Ce qui a été fait à ce moment, c'est de réassigner ces films aux clusters le plus proche en utilisant comme définition du cluster le plus proche: le cluster avec le centroïde le plus proche."
   ]
  },
  {
   "cell_type": "markdown",
   "metadata": {},
   "source": [
    "## Conclusion\n",
    "\n",
    "On a dans cette étude étudier différentes manières de recommander des films. Tout d'abord avec les distances, nous avons retenues que c'est la distance euclidienne qui parait nous donner les résultats les meilleurs. Cela étant dit, recommander toujours les 5 mêmes films à l'utilisateur n'est pas très amusant.\n",
    "\n",
    "On a donc étudier principalement deux méthodes de clustering. Nous avons simplement rejeté la solution du clustering hiérarchique parce que cette technique a une complexité de calculs non négligeable mais surtout parce qu'il est difficile de \"découper\" le dendogramme et en déduire le bon nombre de clusters.\n",
    "\n",
    "On s'est alors tourné vers le clustering de type k-means. On peut découper notre étude en trois cas: le premier où nous avons retenu toutes les variables, le second où on a retenu que les variables de type genres, et le troisième où on a essayer d'optimiser un maximum notre sélection des variables et où on les a pondéré les unes par rapport aux autres. \n",
    "\n",
    "Le dernier cas a été le plus concluant. A noter que pour ce dernier cas, on pourrait penser à optimiser encore cette pondération de nos variables par exemple: pourquoi ne pas donner plus d'importances à une variable genre qu'à une autre? On pourrait alors essayer de minimiser une fonction coût avec pour paramètres les différents nombres scalaires utilisées pour pondérés nos variables. Il y a déjà des études qui ont été menés pour optimiser ces critères cependant aucune n'a encore été implémenté sous python. \n",
    "\n",
    "Nous nous contenterons donc de la solution proposée ici et qui nous amènent des résultats tout à fait satisfaisants à consulter sur l'api rest : https://best-recommender.herokuapp.com/recommend/1."
   ]
  }
 ],
 "metadata": {
  "kernelspec": {
   "display_name": "Python 3",
   "language": "python",
   "name": "python3"
  },
  "language_info": {
   "codemirror_mode": {
    "name": "ipython",
    "version": 3
   },
   "file_extension": ".py",
   "mimetype": "text/x-python",
   "name": "python",
   "nbconvert_exporter": "python",
   "pygments_lexer": "ipython3",
   "version": "3.7.3"
  }
 },
 "nbformat": 4,
 "nbformat_minor": 2
}
