{
 "cells": [
  {
   "cell_type": "markdown",
   "metadata": {},
   "source": [
    "# Moteur de recommandations de films - analyse de données exploratoires\n",
    "\n",
    "## Introduction\n",
    "\n",
    "Le but de cette étude est de réaliser une analyse de données exploratoires sur une base de données fournie qui recense des informations sur des films. Nous allons explorer cette base de données pour la préparer à un traitement permettant de recommander des films. Nous n'avons pour le moment pas de données utilisateurs.\n",
    "\n",
    "## 1 - Les données\n",
    "\n",
    "Nous chargeons les données : "
   ]
  },
  {
   "cell_type": "code",
   "execution_count": 2,
   "metadata": {},
   "outputs": [
    {
     "data": {
      "text/html": [
       "<div>\n",
       "<style scoped>\n",
       "    .dataframe tbody tr th:only-of-type {\n",
       "        vertical-align: middle;\n",
       "    }\n",
       "\n",
       "    .dataframe tbody tr th {\n",
       "        vertical-align: top;\n",
       "    }\n",
       "\n",
       "    .dataframe thead th {\n",
       "        text-align: right;\n",
       "    }\n",
       "</style>\n",
       "<table border=\"1\" class=\"dataframe\">\n",
       "  <thead>\n",
       "    <tr style=\"text-align: right;\">\n",
       "      <th></th>\n",
       "      <th>color</th>\n",
       "      <th>director_name</th>\n",
       "      <th>num_critic_for_reviews</th>\n",
       "      <th>duration</th>\n",
       "      <th>director_facebook_likes</th>\n",
       "      <th>actor_3_facebook_likes</th>\n",
       "      <th>actor_2_name</th>\n",
       "      <th>actor_1_facebook_likes</th>\n",
       "      <th>gross</th>\n",
       "      <th>genres</th>\n",
       "      <th>...</th>\n",
       "      <th>num_user_for_reviews</th>\n",
       "      <th>language</th>\n",
       "      <th>country</th>\n",
       "      <th>content_rating</th>\n",
       "      <th>budget</th>\n",
       "      <th>title_year</th>\n",
       "      <th>actor_2_facebook_likes</th>\n",
       "      <th>imdb_score</th>\n",
       "      <th>aspect_ratio</th>\n",
       "      <th>movie_facebook_likes</th>\n",
       "    </tr>\n",
       "  </thead>\n",
       "  <tbody>\n",
       "    <tr>\n",
       "      <th>0</th>\n",
       "      <td>Color</td>\n",
       "      <td>James Cameron</td>\n",
       "      <td>723.0</td>\n",
       "      <td>178.0</td>\n",
       "      <td>0.0</td>\n",
       "      <td>855.0</td>\n",
       "      <td>Joel David Moore</td>\n",
       "      <td>1000.0</td>\n",
       "      <td>760505847.0</td>\n",
       "      <td>Action|Adventure|Fantasy|Sci-Fi</td>\n",
       "      <td>...</td>\n",
       "      <td>3054.0</td>\n",
       "      <td>English</td>\n",
       "      <td>USA</td>\n",
       "      <td>PG-13</td>\n",
       "      <td>237000000.0</td>\n",
       "      <td>2009.0</td>\n",
       "      <td>936.0</td>\n",
       "      <td>7.9</td>\n",
       "      <td>1.78</td>\n",
       "      <td>33000.0</td>\n",
       "    </tr>\n",
       "    <tr>\n",
       "      <th>1</th>\n",
       "      <td>Color</td>\n",
       "      <td>Gore Verbinski</td>\n",
       "      <td>302.0</td>\n",
       "      <td>169.0</td>\n",
       "      <td>563.0</td>\n",
       "      <td>1000.0</td>\n",
       "      <td>Orlando Bloom</td>\n",
       "      <td>40000.0</td>\n",
       "      <td>309404152.0</td>\n",
       "      <td>Action|Adventure|Fantasy</td>\n",
       "      <td>...</td>\n",
       "      <td>1238.0</td>\n",
       "      <td>English</td>\n",
       "      <td>USA</td>\n",
       "      <td>PG-13</td>\n",
       "      <td>300000000.0</td>\n",
       "      <td>2007.0</td>\n",
       "      <td>5000.0</td>\n",
       "      <td>7.1</td>\n",
       "      <td>2.35</td>\n",
       "      <td>0.0</td>\n",
       "    </tr>\n",
       "    <tr>\n",
       "      <th>2</th>\n",
       "      <td>Color</td>\n",
       "      <td>Sam Mendes</td>\n",
       "      <td>602.0</td>\n",
       "      <td>148.0</td>\n",
       "      <td>0.0</td>\n",
       "      <td>161.0</td>\n",
       "      <td>Rory Kinnear</td>\n",
       "      <td>11000.0</td>\n",
       "      <td>200074175.0</td>\n",
       "      <td>Action|Adventure|Thriller</td>\n",
       "      <td>...</td>\n",
       "      <td>994.0</td>\n",
       "      <td>English</td>\n",
       "      <td>UK</td>\n",
       "      <td>PG-13</td>\n",
       "      <td>245000000.0</td>\n",
       "      <td>2015.0</td>\n",
       "      <td>393.0</td>\n",
       "      <td>6.8</td>\n",
       "      <td>2.35</td>\n",
       "      <td>85000.0</td>\n",
       "    </tr>\n",
       "    <tr>\n",
       "      <th>3</th>\n",
       "      <td>Color</td>\n",
       "      <td>Christopher Nolan</td>\n",
       "      <td>813.0</td>\n",
       "      <td>164.0</td>\n",
       "      <td>22000.0</td>\n",
       "      <td>23000.0</td>\n",
       "      <td>Christian Bale</td>\n",
       "      <td>27000.0</td>\n",
       "      <td>448130642.0</td>\n",
       "      <td>Action|Thriller</td>\n",
       "      <td>...</td>\n",
       "      <td>2701.0</td>\n",
       "      <td>English</td>\n",
       "      <td>USA</td>\n",
       "      <td>PG-13</td>\n",
       "      <td>250000000.0</td>\n",
       "      <td>2012.0</td>\n",
       "      <td>23000.0</td>\n",
       "      <td>8.5</td>\n",
       "      <td>2.35</td>\n",
       "      <td>164000.0</td>\n",
       "    </tr>\n",
       "    <tr>\n",
       "      <th>4</th>\n",
       "      <td>NaN</td>\n",
       "      <td>Doug Walker</td>\n",
       "      <td>NaN</td>\n",
       "      <td>NaN</td>\n",
       "      <td>131.0</td>\n",
       "      <td>NaN</td>\n",
       "      <td>Rob Walker</td>\n",
       "      <td>131.0</td>\n",
       "      <td>NaN</td>\n",
       "      <td>Documentary</td>\n",
       "      <td>...</td>\n",
       "      <td>NaN</td>\n",
       "      <td>NaN</td>\n",
       "      <td>NaN</td>\n",
       "      <td>NaN</td>\n",
       "      <td>NaN</td>\n",
       "      <td>NaN</td>\n",
       "      <td>12.0</td>\n",
       "      <td>7.1</td>\n",
       "      <td>NaN</td>\n",
       "      <td>0.0</td>\n",
       "    </tr>\n",
       "  </tbody>\n",
       "</table>\n",
       "<p>5 rows × 28 columns</p>\n",
       "</div>"
      ],
      "text/plain": [
       "   color      director_name  num_critic_for_reviews  duration  \\\n",
       "0  Color      James Cameron                   723.0     178.0   \n",
       "1  Color     Gore Verbinski                   302.0     169.0   \n",
       "2  Color         Sam Mendes                   602.0     148.0   \n",
       "3  Color  Christopher Nolan                   813.0     164.0   \n",
       "4    NaN        Doug Walker                     NaN       NaN   \n",
       "\n",
       "   director_facebook_likes  actor_3_facebook_likes      actor_2_name  \\\n",
       "0                      0.0                   855.0  Joel David Moore   \n",
       "1                    563.0                  1000.0     Orlando Bloom   \n",
       "2                      0.0                   161.0      Rory Kinnear   \n",
       "3                  22000.0                 23000.0    Christian Bale   \n",
       "4                    131.0                     NaN        Rob Walker   \n",
       "\n",
       "   actor_1_facebook_likes        gross                           genres  ...  \\\n",
       "0                  1000.0  760505847.0  Action|Adventure|Fantasy|Sci-Fi  ...   \n",
       "1                 40000.0  309404152.0         Action|Adventure|Fantasy  ...   \n",
       "2                 11000.0  200074175.0        Action|Adventure|Thriller  ...   \n",
       "3                 27000.0  448130642.0                  Action|Thriller  ...   \n",
       "4                   131.0          NaN                      Documentary  ...   \n",
       "\n",
       "  num_user_for_reviews language  country  content_rating       budget  \\\n",
       "0               3054.0  English      USA           PG-13  237000000.0   \n",
       "1               1238.0  English      USA           PG-13  300000000.0   \n",
       "2                994.0  English       UK           PG-13  245000000.0   \n",
       "3               2701.0  English      USA           PG-13  250000000.0   \n",
       "4                  NaN      NaN      NaN             NaN          NaN   \n",
       "\n",
       "   title_year actor_2_facebook_likes imdb_score  aspect_ratio  \\\n",
       "0      2009.0                  936.0        7.9          1.78   \n",
       "1      2007.0                 5000.0        7.1          2.35   \n",
       "2      2015.0                  393.0        6.8          2.35   \n",
       "3      2012.0                23000.0        8.5          2.35   \n",
       "4         NaN                   12.0        7.1           NaN   \n",
       "\n",
       "  movie_facebook_likes  \n",
       "0              33000.0  \n",
       "1                  0.0  \n",
       "2              85000.0  \n",
       "3             164000.0  \n",
       "4                  0.0  \n",
       "\n",
       "[5 rows x 28 columns]"
      ]
     },
     "execution_count": 2,
     "metadata": {},
     "output_type": "execute_result"
    }
   ],
   "source": [
    "import pandas as pd\n",
    "import numpy as np\n",
    "\n",
    "# Importing the dataset\n",
    "data = pd.read_csv('movie_metadata.csv')\n",
    "data.head()"
   ]
  },
  {
   "cell_type": "markdown",
   "metadata": {},
   "source": [
    "Nous observons une base de données de 5043 films caractérisés par 28 variables. Ces variables sont : \n"
   ]
  },
  {
   "cell_type": "code",
   "execution_count": 5,
   "metadata": {},
   "outputs": [
    {
     "data": {
      "text/plain": [
       "Index(['color', 'director_name', 'num_critic_for_reviews', 'duration',\n",
       "       'director_facebook_likes', 'actor_3_facebook_likes', 'actor_2_name',\n",
       "       'actor_1_facebook_likes', 'gross', 'genres', 'actor_1_name',\n",
       "       'movie_title', 'num_voted_users', 'cast_total_facebook_likes',\n",
       "       'actor_3_name', 'facenumber_in_poster', 'plot_keywords',\n",
       "       'movie_imdb_link', 'num_user_for_reviews', 'language', 'country',\n",
       "       'content_rating', 'budget', 'title_year', 'actor_2_facebook_likes',\n",
       "       'imdb_score', 'aspect_ratio', 'movie_facebook_likes'],\n",
       "      dtype='object')"
      ]
     },
     "execution_count": 5,
     "metadata": {},
     "output_type": "execute_result"
    }
   ],
   "source": [
    "data.columns"
   ]
  },
  {
   "cell_type": "markdown",
   "metadata": {},
   "source": [
    "Nous pouvons tout d'abord supprimer les doublons contenues dans notre dataset."
   ]
  },
  {
   "cell_type": "code",
   "execution_count": 6,
   "metadata": {},
   "outputs": [],
   "source": [
    "data = data.drop_duplicates(subset='movie_title', keep='last')"
   ]
  },
  {
   "cell_type": "markdown",
   "metadata": {},
   "source": [
    "## 2 - Traitement des valeurs manquantes\n",
    "\n",
    "Nous allons tout d'abord traiter les valeurs manquantes.\n",
    "\n",
    "### a - Variables Catégorielles\n",
    "\n",
    "Pour les variables catégorielles nous choisissons de remplacer simplement les valeurs manquantes par des champs vides. En effet, les valeurs de ces variables seront traités ensuite comme des variables muettes et nous retirerons la variable correspondant au champ vide."
   ]
  },
  {
   "cell_type": "code",
   "execution_count": 3,
   "metadata": {},
   "outputs": [
    {
     "name": "stderr",
     "output_type": "stream",
     "text": [
      "C:\\Users\\zakis\\Anaconda3\\lib\\site-packages\\pandas\\core\\frame.py:2450: SettingWithCopyWarning: \n",
      "A value is trying to be set on a copy of a slice from a DataFrame.\n",
      "Try using .loc[row_indexer,col_indexer] = value instead\n",
      "\n",
      "See the caveats in the documentation: http://pandas.pydata.org/pandas-docs/stable/indexing.html#indexing-view-versus-copy\n",
      "  self[k1] = value[k2]\n"
     ]
    }
   ],
   "source": [
    "data[['color']] = data[['color']].fillna('')\n",
    "data[['director_name']] = data[['director_name']].fillna('')\n",
    "data[['actor_2_name']] = data[['actor_2_name']].fillna('')\n",
    "data[['genres']] = data[['genres']].fillna('')\n",
    "data[['actor_1_name']] = data[['actor_1_name']].fillna('')\n",
    "data[['actor_3_name']] = data[['actor_3_name']].fillna('')\n",
    "data[['plot_keywords']] = data[['plot_keywords']].fillna('')\n",
    "data[['movie_imdb_link']] = data[['movie_imdb_link']].fillna('')\n",
    "data[['language']] = data[['language']].fillna('')\n",
    "data[['country']] = data[['country']].fillna('')\n",
    "data[['content_rating']] = data[['content_rating']].fillna('')"
   ]
  },
  {
   "cell_type": "markdown",
   "metadata": {},
   "source": [
    "La seule variable pour laquelle nous décidons de ne pas remplacer les champs vides est la variable movie_title simplement parce que sans le nom du film, il est impossible de savoir à quel film cette ligne correspond, cependant dans notre dataset tous les films ont un titre.\n",
    "\n",
    "### a - Variables numériques\n",
    "\n",
    "Pour les variables avec des valeurs numériques, nous décidons d'avoir deux types de stratégies: soit remplacer les valeurs manquantes par 0, soit remplacer les valeurs manquantes par la moyenne faite sur la variable.\n",
    "\n",
    "Les variables pour lesquelles nous avons décider de remplacer les valeurs manquantes par 0 sont les variables pour lesquelles nous pensons que si la valeur n'est pas renseigné c'est qu'elle est introuvable et donc correspond plus à une valeur nulle qu'à une valeur moyenne. Par exemple, le nombre de mention \"j'aime\" sur facebook du réalisateur, s'il n'est pas mentionné, on préfère considérer que c'est probablement du au faite que la page facebook de cette artiste n'existe pas et donc on décide de remplacer la valeur manquante par une valeur nulle.\n",
    "\n",
    "Les variables pour lesquelles nous avons adopter cette stratégie sont:\n",
    "\n",
    "    + num_critic_for_reviews\n",
    "    + director_facebook_likes\n",
    "    + actor_3_facebook_likes\n",
    "    + actor_1_facebook_likes\n",
    "    + number_voted_users\n",
    "    + cast_total_facebook_likes\n",
    "    + face_number_in_poster\n",
    "    + num_user_for_reviews\n",
    "    + actor_2_facebook_likes\n",
    "    + movie_facebook_likes\n",
    "\n",
    "Les variables pour lesquelles nous décidons de calculer la moyenne faite sur la variable sont les variables pour lesquelles une valeur nulle parait aberrante. On préfère prendre la moyenne faite sur ces variables. Un exemple typique est la durée du film pour laquelle si nous n'avons pas d'informations, on ne peut remplacer la valeur manquante par 0 cependant la moyenne faite sur tous les films de notre dataset parait être un bon compromis.\n",
    "\n",
    "Les variables pour lesquelles nous avons adopter cette stratégie sont:\n",
    "\n",
    "    + duration\n",
    "    + gross\n",
    "    + budget\n",
    "    + title_year\n",
    "    + imdb_scores\n",
    "    + aspect_ratio\n"
   ]
  },
  {
   "cell_type": "code",
   "execution_count": 4,
   "metadata": {},
   "outputs": [
    {
     "name": "stderr",
     "output_type": "stream",
     "text": [
      "C:\\Users\\zakis\\Anaconda3\\lib\\site-packages\\pandas\\core\\frame.py:2450: SettingWithCopyWarning: \n",
      "A value is trying to be set on a copy of a slice from a DataFrame.\n",
      "Try using .loc[row_indexer,col_indexer] = value instead\n",
      "\n",
      "See the caveats in the documentation: http://pandas.pydata.org/pandas-docs/stable/indexing.html#indexing-view-versus-copy\n",
      "  self[k1] = value[k2]\n"
     ]
    }
   ],
   "source": [
    "#replacing nan values for num_critic_for_reviews, director_facebook_likes, actor_3_facebook_likes\n",
    "#, actor_1_facebook_likes, number_voted_users, cast_total_facebook_likes, face_number_in_poster\n",
    "#num_user_for_reviews, actor_2_facebook_likes, movie_facebook_likes\n",
    "data[['num_critic_for_reviews']] = data[['num_critic_for_reviews']].fillna(0)\n",
    "data[['director_facebook_likes']] = data[['director_facebook_likes']].fillna(0)\n",
    "data[['actor_3_facebook_likes']] = data[['actor_3_facebook_likes']].fillna(0)\n",
    "data[['actor_1_facebook_likes']] = data[['actor_1_facebook_likes']].fillna(0)\n",
    "data[['num_voted_users']] = data[['num_voted_users']].fillna(0)\n",
    "data[['cast_total_facebook_likes']] = data[['cast_total_facebook_likes']].fillna(0)\n",
    "data[['facenumber_in_poster']] = data[['facenumber_in_poster']].fillna(0)\n",
    "data[['num_user_for_reviews']] = data[['num_user_for_reviews']].fillna(0)\n",
    "data[['actor_2_facebook_likes']] = data[['actor_2_facebook_likes']].fillna(0)\n",
    "data[['movie_facebook_likes']] = data[['movie_facebook_likes']].fillna(0)\n",
    "\n",
    "#replacing nan values by mean for duration, gross, budget, title_year, imdb_scores, aspect_ratio\n",
    "data[['duration']] = data[['duration']].fillna(data[['duration']].mean())\n",
    "data[['gross']] = data[['gross']].fillna(data[['gross']].mean())\n",
    "data[['budget']] = data[['budget']].fillna(data[['budget']].mean())\n",
    "data[['title_year']] = data[['title_year']].fillna(data[['title_year']].mean())\n",
    "data[['imdb_score']] = data[['imdb_score']].fillna(data[['imdb_score']].mean())\n",
    "data[['aspect_ratio']] = data[['aspect_ratio']].fillna(data[['aspect_ratio']].mean())"
   ]
  },
  {
   "cell_type": "markdown",
   "metadata": {},
   "source": [
    "## Analyse exploratoire\n",
    "\n",
    "On s'intéresse à la répartition des notes données par les utilisateurs aux films."
   ]
  },
  {
   "cell_type": "code",
   "execution_count": 5,
   "metadata": {},
   "outputs": [
    {
     "data": {
      "text/plain": [
       "array([[<matplotlib.axes._subplots.AxesSubplot object at 0x000001C249CFB908>]], dtype=object)"
      ]
     },
     "execution_count": 5,
     "metadata": {},
     "output_type": "execute_result"
    },
    {
     "data": {
      "image/png": "[encoded data removed]",
      "text/plain": [
       "<matplotlib.figure.Figure at 0x1c246bf3ac8>"
      ]
     },
     "metadata": {},
     "output_type": "display_data"
    }
   ],
   "source": [
    "%matplotlib inline\n",
    "data[['imdb_score']].hist(bins= 10)"
   ]
  },
  {
   "cell_type": "markdown",
   "metadata": {},
   "source": [
    "Les notes sont plutôt positives vis à vis des films : moyenne à 7. Il y a plus de films peu appréciés que de films appréciés.\n",
    "\n",
    "#### Note imdb par genres"
   ]
  },
  {
   "cell_type": "code",
   "execution_count": 6,
   "metadata": {},
   "outputs": [
    {
     "data": {
      "text/plain": [
       "[<matplotlib.text.Text at 0x1c24a3a1128>,\n",
       " <matplotlib.text.Text at 0x1c24a391358>,\n",
       " <matplotlib.text.Text at 0x1c24a710860>,\n",
       " <matplotlib.text.Text at 0x1c24a717278>,\n",
       " <matplotlib.text.Text at 0x1c24a717c50>,\n",
       " <matplotlib.text.Text at 0x1c24a71f668>,\n",
       " <matplotlib.text.Text at 0x1c24a726080>,\n",
       " <matplotlib.text.Text at 0x1c24a726a58>,\n",
       " <matplotlib.text.Text at 0x1c24a72e470>,\n",
       " <matplotlib.text.Text at 0x1c24a72ee48>,\n",
       " <matplotlib.text.Text at 0x1c24a733860>,\n",
       " <matplotlib.text.Text at 0x1c24a73b278>,\n",
       " <matplotlib.text.Text at 0x1c24a73bc50>,\n",
       " <matplotlib.text.Text at 0x1c24a741668>,\n",
       " <matplotlib.text.Text at 0x1c24a748080>,\n",
       " <matplotlib.text.Text at 0x1c24a748a58>,\n",
       " <matplotlib.text.Text at 0x1c24a74e470>,\n",
       " <matplotlib.text.Text at 0x1c24a74ee48>,\n",
       " <matplotlib.text.Text at 0x1c24a753860>,\n",
       " <matplotlib.text.Text at 0x1c24a75c278>,\n",
       " <matplotlib.text.Text at 0x1c24a75cc50>,\n",
       " <matplotlib.text.Text at 0x1c24a763668>,\n",
       " <matplotlib.text.Text at 0x1c24a768080>,\n",
       " <matplotlib.text.Text at 0x1c24a768a58>,\n",
       " <matplotlib.text.Text at 0x1c24a770470>,\n",
       " <matplotlib.text.Text at 0x1c24a770e48>]"
      ]
     },
     "execution_count": 6,
     "metadata": {},
     "output_type": "execute_result"
    },
    {
     "data": {
      "image/png": "[encoded data removed]",
      "text/plain": [
       "<matplotlib.figure.Figure at 0x1c249c97b70>"
      ]
     },
     "metadata": {},
     "output_type": "display_data"
    }
   ],
   "source": [
    "import matplotlib.pyplot as plt\n",
    "genres_ = dataset.set_index(dataset.index).genres.str.split(r'|', expand=True).stack().reset_index(level=1, drop=True).to_frame('genre'); \n",
    "genresIMDB = pd.concat([genres_, dataset[['imdb_score']]], axis=1)\n",
    "genresIMDB.boxplot(column='imdb_score', by='genre')\n",
    "ax = plt.gca()\n",
    "ax.set_xticklabels(ax.get_xticklabels(),rotation=90)"
   ]
  },
  {
   "cell_type": "markdown",
   "metadata": {},
   "source": [
    "Les genres de films sont approximativment tous centrés autour de la note moyenne. Les films de type télé-réalité sont très peu apprécié et que les films comme les comédies, biographies ou les films de guerre sont très appréciés.\n",
    "\n",
    "#### Top 10 réalisateurs - score imdb\n",
    "\n",
    "On a retenues les réalisateurs avec le plus de films."
   ]
  },
  {
   "cell_type": "code",
   "execution_count": 7,
   "metadata": {},
   "outputs": [
    {
     "data": {
      "text/plain": [
       "[<matplotlib.text.Text at 0x1c24a80bb00>,\n",
       " <matplotlib.text.Text at 0x1c24a812198>,\n",
       " <matplotlib.text.Text at 0x1c24b951c18>,\n",
       " <matplotlib.text.Text at 0x1c24b957630>,\n",
       " <matplotlib.text.Text at 0x1c24b95c048>,\n",
       " <matplotlib.text.Text at 0x1c24b95ca20>,\n",
       " <matplotlib.text.Text at 0x1c24b964438>,\n",
       " <matplotlib.text.Text at 0x1c24b964e10>,\n",
       " <matplotlib.text.Text at 0x1c24b96d828>,\n",
       " <matplotlib.text.Text at 0x1c24b972240>]"
      ]
     },
     "execution_count": 7,
     "metadata": {},
     "output_type": "execute_result"
    },
    {
     "data": {
      "image/png": "[encoded data removed]",
      "text/plain": [
       "<matplotlib.figure.Figure at 0x1c24a7e5f60>"
      ]
     },
     "metadata": {},
     "output_type": "display_data"
    }
   ],
   "source": [
    "directors_IMDB = pd.concat([dataset[['director_name']], dataset[['imdb_score']]], axis=1)\n",
    "x = directors_IMDB.groupby('director_name').count().nlargest(10, columns = 'imdb_score')\n",
    "y = []\n",
    "for i in x.index:\n",
    "    y.append(directors_IMDB[i == directors_IMDB[['director_name']].values])\n",
    "\n",
    "director_name_IMDBTopTen = pd.concat(y)\n",
    "director_name_IMDBTopTen.boxplot(column='imdb_score', by='director_name')\n",
    "ax = plt.gca()\n",
    "ax.set_xticklabels(ax.get_xticklabels(),rotation=90)"
   ]
  },
  {
   "cell_type": "markdown",
   "metadata": {},
   "source": [
    "On remarque déjà que la plupart des producteurs sont au dessus de la moyenne des films. On voit Martin Scorcese et Steven Spielberg être les meilleurs producteurs de tous les films recensés dans notre dataset."
   ]
  },
  {
   "cell_type": "markdown",
   "metadata": {},
   "source": [
    "#### Top 10 acteurs - score imdb\n",
    "\n",
    "On a retenues les acteurs avec le plus de films."
   ]
  },
  {
   "cell_type": "code",
   "execution_count": 8,
   "metadata": {},
   "outputs": [
    {
     "data": {
      "text/plain": [
       "[<matplotlib.text.Text at 0x1c24b9e5240>,\n",
       " <matplotlib.text.Text at 0x1c24b9f90b8>,\n",
       " <matplotlib.text.Text at 0x1c24bb45c18>,\n",
       " <matplotlib.text.Text at 0x1c24bb4e630>,\n",
       " <matplotlib.text.Text at 0x1c24bb55048>,\n",
       " <matplotlib.text.Text at 0x1c24bb55a20>,\n",
       " <matplotlib.text.Text at 0x1c24bb5a438>,\n",
       " <matplotlib.text.Text at 0x1c24bb5ae10>,\n",
       " <matplotlib.text.Text at 0x1c24bb63828>,\n",
       " <matplotlib.text.Text at 0x1c24bb69240>]"
      ]
     },
     "execution_count": 8,
     "metadata": {},
     "output_type": "execute_result"
    },
    {
     "data": {
      "image/png": "[encoded data removed]",
      "text/plain": [
       "<matplotlib.figure.Figure at 0x1c24b9a5fd0>"
      ]
     },
     "metadata": {},
     "output_type": "display_data"
    }
   ],
   "source": [
    "actor1 = dataset[['actor_1_name']].fillna('').values\n",
    "actor2 = dataset[['actor_2_name']].fillna('').values\n",
    "actor3 = dataset[['actor_3_name']].fillna('').values\n",
    "actors = pd.DataFrame(np.concatenate((actor1, actor2, actor3), axis = 1), index = dataset.index, columns = ['actor_1_name','actor_2_name','actor_3_name'])\n",
    "actors_ = actors.set_index(actors.index).stack().reset_index(level=1, drop=True).to_frame('actors'); \n",
    "\n",
    "\n",
    "genresIMDB = pd.concat([actors_, dataset[['imdb_score']]], axis=1)\n",
    "\n",
    "x = genresIMDB.groupby('actors').count().nlargest(10, columns = 'imdb_score')\n",
    "y = []\n",
    "for i in x.index:\n",
    "    y.append(genresIMDB[i == genresIMDB[['actors']].values])\n",
    "\n",
    "genresIMDBTopTen = pd.concat(y)\n",
    "genresIMDBTopTen.boxplot(column='imdb_score', by='actors')\n",
    "ax = plt.gca()\n",
    "ax.set_xticklabels(ax.get_xticklabels(),rotation=90)"
   ]
  },
  {
   "cell_type": "markdown",
   "metadata": {},
   "source": [
    "Les acteurs connus ne sont pas les acteurs avec les meilleurs films mais des acteurs avec certains films qui ont reçu une bonne critique."
   ]
  },
  {
   "cell_type": "markdown",
   "metadata": {},
   "source": [
    "#### Movie facebook likes"
   ]
  },
  {
   "cell_type": "code",
   "execution_count": 9,
   "metadata": {},
   "outputs": [
    {
     "data": {
      "text/plain": [
       "[]"
      ]
     },
     "execution_count": 9,
     "metadata": {},
     "output_type": "execute_result"
    },
    {
     "data": {
      "image/png": "[encoded data removed]",
      "text/plain": [
       "<matplotlib.figure.Figure at 0x1c24b9ad5c0>"
      ]
     },
     "metadata": {},
     "output_type": "display_data"
    }
   ],
   "source": [
    "cast_total_facebook_likes = dataset[['movie_facebook_likes']]\n",
    "bins = 10**(np.arange(0,4,0.1))\n",
    "cast_total_facebook_likes.hist(bins=bins)\n",
    "plt.semilogx()"
   ]
  },
  {
   "cell_type": "markdown",
   "metadata": {},
   "source": []
  },
  {
   "cell_type": "markdown",
   "metadata": {},
   "source": [
    "#### Budget"
   ]
  },
  {
   "cell_type": "code",
   "execution_count": 10,
   "metadata": {},
   "outputs": [
    {
     "data": {
      "text/plain": [
       "[]"
      ]
     },
     "execution_count": 10,
     "metadata": {},
     "output_type": "execute_result"
    },
    {
     "data": {
      "image/png": "[encoded data removed]",
      "text/plain": [
       "<matplotlib.figure.Figure at 0x1c24bcdbef0>"
      ]
     },
     "metadata": {},
     "output_type": "display_data"
    }
   ],
   "source": [
    "budget = dataset[['budget']]\n",
    "bins = 10**(np.arange(5,9,0.1))\n",
    "budget.hist(bins=bins)\n",
    "plt.semilogx()"
   ]
  },
  {
   "cell_type": "markdown",
   "metadata": {},
   "source": []
  },
  {
   "cell_type": "code",
   "execution_count": 11,
   "metadata": {},
   "outputs": [
    {
     "data": {
      "text/plain": [
       "[]"
      ]
     },
     "execution_count": 11,
     "metadata": {},
     "output_type": "execute_result"
    },
    {
     "data": {
      "image/png": "[encoded data removed]",
      "text/plain": [
       "<matplotlib.figure.Figure at 0x1c24c23d3c8>"
      ]
     },
     "metadata": {},
     "output_type": "display_data"
    }
   ],
   "source": [
    "budgetUS = dataset[dataset[['country']].values == 'USA'][['budget','country']]\n",
    "budgetFr = dataset[dataset[['country']].values == 'France'][['budget','country']]\n",
    "budgetUk = dataset[dataset[['country']].values == 'UK'][['budget','country']]\n",
    "budgetCanada = dataset[dataset[['country']].values == 'Canada'][['budget','country']]\n",
    "y = pd.concat([budgetUS, budgetCanada, budgetFr, budgetUk], axis = 0)\n",
    "y.boxplot(column='budget', by='country')\n",
    "plt.semilogy()"
   ]
  },
  {
   "cell_type": "markdown",
   "metadata": {},
   "source": [
    "Quelque peu étonné de la distribution des données: les films français ont approximativement le même budget que ceux des USA. On note donc qu'à priori ces films sont des films aux succès mondiaux."
   ]
  },
  {
   "cell_type": "markdown",
   "metadata": {},
   "source": [
    "## Préparation des données\n",
    "\n",
    "Pour préparer les données, nous allons isolées les données. Nous allons tout d'abord isoler les données numériques qui ne demandent pas plus de traitement que ceux déjà fait."
   ]
  },
  {
   "cell_type": "code",
   "execution_count": null,
   "metadata": {
    "collapsed": true
   },
   "outputs": [],
   "source": [
    "num_critic_for_reviews = data[['num_critic_for_reviews']]\n",
    "director_facebook_likes = data[['director_facebook_likes']]\n",
    "actor_3_facebook_likes = data[['actor_3_facebook_likes']]\n",
    "actor_1_facebook_likes = data[['actor_1_facebook_likes']]\n",
    "num_voted_users = data[['num_voted_users']]\n",
    "cast_total_facebook_likes = data[['cast_total_facebook_likes']]\n",
    "facenumber_in_poster = data[['facenumber_in_poster']]\n",
    "num_user_for_reviews = data[['num_user_for_reviews']]\n",
    "actor_2_facebook_likes = data[['actor_2_facebook_likes']]\n",
    "movie_facebook_likes = data[['movie_facebook_likes']]\n",
    "duration = data[['duration']]\n",
    "gross = data[['gross']]\n",
    "budget = data[['budget']]\n",
    "title_year = data[['title_year']]\n",
    "imdb_score = data[['imdb_score']]\n",
    "aspect_ratio = data[['aspect_ratio']]\n",
    "movie_title = data[['movie_title']]"
   ]
  },
  {
   "cell_type": "markdown",
   "metadata": {},
   "source": [
    "Nous allons traiter nos variables catégorielles. Celle-ci demande un prétraitement qui demande de binariser nos données. Pour chacune des variables nous n'allons pas retenir toutes les valeurs que peut porter une variable. En effet, pour catégoriser nos films, il est important de créer de la variance dans les variables mais si cette variance ne permet pas de regrouper des films alors cette variance n'est pas retenu. \n",
    "\n",
    "Plus simplement, dans le cas extrême où si une valeur n'apparait qu'une seule fois elle ne sera pas retenu parce que malgré le fait qu'elle permette de créer de la variance, elle ne permet pas de regrouper des films. Ce pourquoi cette valeur sera abandonnée.\n",
    "\n",
    "Pour chacune des variables nous n'allons donc pas retenir toutes les valeurs de la variable en question mais simplement celle qui reviennent le plus souvent."
   ]
  },
  {
   "cell_type": "markdown",
   "metadata": {},
   "source": [
    "### Director name\n",
    "\n",
    "On prends les noms des directeurs avec plus de 10 films à leurs actifs."
   ]
  },
  {
   "cell_type": "code",
   "execution_count": null,
   "metadata": {
    "collapsed": true
   },
   "outputs": [],
   "source": [
    "#set up categorical data director_name\n",
    "director_name = pd.get_dummies(data[['director_name']]).groupby(level=0).sum()\n",
    "director_name = director_name.drop('director_name_', 1)\n",
    "directors_index = np.argwhere(sum(director_name.values == 1) > 10)[:,0]\n",
    "director_name = director_name.iloc[:,directors_index]"
   ]
  },
  {
   "cell_type": "markdown",
   "metadata": {},
   "source": [
    "### Acteurs\n",
    "\n",
    "On regroupe les acteurs dans une seule catégories pour simplement noter leurs présences dans le film peu importe s'il tienne le rôle principal. On retient tous les acteurs avec plus de 25 films à leurs actifs."
   ]
  },
  {
   "cell_type": "code",
   "execution_count": null,
   "metadata": {
    "collapsed": true
   },
   "outputs": [],
   "source": [
    "actor1 = data[['actor_1_name']].values\n",
    "actor2 = data[['actor_2_name']].values\n",
    "actor3 = data[['actor_3_name']].values\n",
    "actors = pd.DataFrame(np.concatenate((actor1, actor2, actor3), axis = 1), index = data.index, columns = ['actor_1_name','actor_2_name','actor_3_name'])\n",
    "cleaned = actors.set_index(actors.index).stack().reset_index(level=1, drop=True).to_frame('actors'); \n",
    "actors = pd.get_dummies(cleaned).groupby(level=0).sum()\n",
    "actors = actors.drop('actors_', 1)\n",
    "actors_index = np.argwhere(sum(actors.values == 1) > 25)[:,0]\n",
    "actors = actors.iloc[:,actors_index]"
   ]
  },
  {
   "cell_type": "markdown",
   "metadata": {},
   "source": [
    "### Genres \n",
    " \n",
    " On retient tous les genres de films."
   ]
  },
  {
   "cell_type": "code",
   "execution_count": null,
   "metadata": {
    "collapsed": true
   },
   "outputs": [],
   "source": [
    "cleaned = data.set_index(data.index).genres.str.split(r'|', expand=True).stack().reset_index(level=1, drop=True).to_frame('genre'); \n",
    "genres = pd.get_dummies(cleaned).groupby(level=0).sum()"
   ]
  },
  {
   "cell_type": "markdown",
   "metadata": {},
   "source": [
    "### Content rating"
   ]
  },
  {
   "cell_type": "code",
   "execution_count": null,
   "metadata": {
    "collapsed": true
   },
   "outputs": [],
   "source": [
    "content_rating = pd.get_dummies(data[['content_rating']]).groupby(level=0).sum()\n",
    "content_rating = content_rating.drop('content_rating_', 1)"
   ]
  },
  {
   "cell_type": "markdown",
   "metadata": {},
   "source": [
    "### Pays"
   ]
  },
  {
   "cell_type": "code",
   "execution_count": null,
   "metadata": {
    "collapsed": true
   },
   "outputs": [],
   "source": [
    "country = pd.get_dummies(data[['country']]).groupby(level=0).sum()\n",
    "country = country.drop('country_', 1)\n",
    "country_index = np.argwhere(sum(country.values == 1) > 10)[:,0]\n",
    "country = country.iloc[:,country_index]"
   ]
  },
  {
   "cell_type": "markdown",
   "metadata": {},
   "source": [
    "### Films en couleur"
   ]
  },
  {
   "cell_type": "code",
   "execution_count": null,
   "metadata": {
    "collapsed": true
   },
   "outputs": [],
   "source": [
    "color = pd.get_dummies(data[['color']]).groupby(level=0).sum()\n",
    "color = color.drop('color_Color', 1)"
   ]
  },
  {
   "cell_type": "markdown",
   "metadata": {},
   "source": [
    "### Remarque \n",
    "\n",
    "Parmi toutes les variables que nous avons retenus il y a trois variables que nous n'avons pas pré traiter : \n",
    "\n",
    " + movie imdb link : aucune information particulière contenue dans l'url vers le film imdb\n",
    " + language : nous n'avons pas sélectionné cette variable car elle très corrélé avec la variable pays et nous avons préféré choisir les pays.\n",
    " + plot_key_words : les mos clés correspondant aux films qui sont beaucoup trop nombreux et donc demande de créer trop de variables binaires."
   ]
  },
  {
   "cell_type": "markdown",
   "metadata": {},
   "source": [
    "## Conclusion\n",
    "\n",
    "Nous avons préparer nos données pour essayer un clustering non supervisé. Nous avons au total 4917 films pour 135 variables."
   ]
  }
 ],
 "metadata": {
  "kernelspec": {
   "display_name": "Python 3",
   "language": "python",
   "name": "python3"
  },
  "language_info": {
   "codemirror_mode": {
    "name": "ipython",
    "version": 3
   },
   "file_extension": ".py",
   "mimetype": "text/x-python",
   "name": "python",
   "nbconvert_exporter": "python",
   "pygments_lexer": "ipython3",
   "version": "3.7.3"
  }
 },
 "nbformat": 4,
 "nbformat_minor": 2
}
